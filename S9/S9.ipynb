{
 "cells": [
  {
   "attachments": {},
   "cell_type": "markdown",
   "metadata": {},
   "source": [
    "Model Summary"
   ]
  },
  {
   "cell_type": "code",
   "execution_count": null,
   "metadata": {},
   "outputs": [],
   "source": [
    "import torch\n",
    "from model import Net\n",
    "from torchinfo import summary\n",
    "\n",
    "use_cuda = torch.cuda.is_available()\n",
    "device = torch.device(\"cuda\" if use_cuda else \"cpu\")\n",
    "\n",
    "model = Net().to(device)\n",
    "batch_size = 2\n",
    "summary(\n",
    "    model,\n",
    "    input_size=(batch_size, 3, 32, 32),\n",
    "    depth=4,\n",
    "    col_width=18,\n",
    "    col_names=[\n",
    "        \"kernel_size\",\n",
    "        \"input_size\",\n",
    "        \"output_size\",\n",
    "        \"num_params\",\n",
    "        \"trainable\",\n",
    "    ],\n",
    "    row_settings=[\"var_names\"],\n",
    ")"
   ]
  },
  {
   "attachments": {},
   "cell_type": "markdown",
   "metadata": {},
   "source": [
    "Data loader"
   ]
  },
  {
   "cell_type": "code",
   "execution_count": null,
   "metadata": {},
   "outputs": [],
   "source": [
    "from dataloader import Cifar10DataLoader\n",
    "\n",
    "cifar10 = Cifar10DataLoader(is_cuda_available=use_cuda)\n",
    "train_loader = cifar10.get_loader(True)\n",
    "test_loader = cifar10.get_loader(False)"
   ]
  },
  {
   "attachments": {},
   "cell_type": "markdown",
   "metadata": {},
   "source": [
    "Training"
   ]
  },
  {
   "cell_type": "code",
   "execution_count": null,
   "metadata": {},
   "outputs": [],
   "source": [
    "import torch.optim as optim\n",
    "import torch.nn as nn\n",
    "from train import Trainer\n",
    "from test import Tester\n",
    "\n",
    "trainer = Trainer()\n",
    "tester = Tester()\n",
    "optimizer = optim.SGD(model.parameters(), lr=0.001, momentum=0.9)\n",
    "criterion = nn.NLLLoss()\n",
    "\n",
    "EPOCHS = 200\n",
    "\n",
    "for epoch in range(EPOCHS):\n",
    "    trainer.train(model, train_loader, optimizer, criterion, device, epoch)\n",
    "    tester.test(model, test_loader, criterion, device)"
   ]
  },
  {
   "attachments": {},
   "cell_type": "markdown",
   "metadata": {},
   "source": [
    "Stats"
   ]
  },
  {
   "cell_type": "code",
   "execution_count": null,
   "metadata": {},
   "outputs": [],
   "source": [
    "print(\"Minimum training loss = {:.9f}%\".format(min(trainer.train_losses)))\n",
    "print(\"Minimum testing loss = {:.9f}%\".format(min(tester.test_losses)))\n",
    "print(\"Best training accuracy = {:.2f}%\".format(max(trainer.epoch_train_accuracies)))\n",
    "print(\"Best testing accuracy = {:.2f}%\".format(max(tester.test_accuracies)))"
   ]
  },
  {
   "cell_type": "code",
   "execution_count": null,
   "metadata": {},
   "outputs": [],
   "source": [
    "%matplotlib inline\n",
    "import matplotlib.pyplot as plt\n",
    "import numpy as np\n",
    "\n",
    "def denormalize(img):\n",
    "    channel_means = (0.4914, 0.4822, 0.4465)\n",
    "    channel_stdevs = (0.2470, 0.2435, 0.2616)\n",
    "    img = img.astype(dtype=np.float32)\n",
    "\n",
    "    for i in range(img.shape[0]):\n",
    "        img[i] = (img[i] * channel_stdevs[i]) + channel_means[i]\n",
    "\n",
    "    return np.transpose(img, (1, 2, 0))\n",
    "\n",
    "def show_training_images(train_loader, count):\n",
    "    classes = (\n",
    "            \"plane\",\n",
    "            \"car\",\n",
    "            \"bird\",\n",
    "            \"cat\",\n",
    "            \"deer\",\n",
    "            \"dog\",\n",
    "            \"frog\",\n",
    "            \"horse\",\n",
    "            \"ship\",\n",
    "            \"truck\",\n",
    "    )\n",
    "\n",
    "    images, labels = next(iter(train_loader))\n",
    "    images = images[0:count]\n",
    "    labels = labels[0:count]\n",
    "\n",
    "    fig = plt.figure(figsize=(20, 10))\n",
    "    for i in range(count):\n",
    "        sub = fig.add_subplot(count/5, 5, i+1)\n",
    "        npimg = denormalize(images[i].cpu().numpy().squeeze())\n",
    "        plt.imshow(npimg, cmap=\"gray\")\n",
    "        sub.set_title(\"Correct class: {}\".format(classes[labels[i]]))\n",
    "    plt.tight_layout()\n",
    "    plt.show()"
   ]
  },
  {
   "attachments": {},
   "cell_type": "markdown",
   "metadata": {},
   "source": [
    "Training Images"
   ]
  },
  {
   "cell_type": "code",
   "execution_count": null,
   "metadata": {},
   "outputs": [],
   "source": [
    "show_training_images(train_loader, 20)"
   ]
  },
  {
   "attachments": {},
   "cell_type": "markdown",
   "metadata": {},
   "source": [
    "Code to show misclassified images"
   ]
  },
  {
   "cell_type": "code",
   "execution_count": null,
   "metadata": {},
   "outputs": [],
   "source": [
    "%matplotlib inline\n",
    "import matplotlib.pyplot as plt\n",
    "import numpy as np\n",
    "\n",
    "def show_misclassified_images(model, test_loader, device):\n",
    "    model.eval()\n",
    "    classes = (\n",
    "            \"plane\",\n",
    "            \"car\",\n",
    "            \"bird\",\n",
    "            \"cat\",\n",
    "            \"deer\",\n",
    "            \"dog\",\n",
    "            \"frog\",\n",
    "            \"horse\",\n",
    "            \"ship\",\n",
    "            \"truck\",\n",
    "    )\n",
    "    misclassified_images = []\n",
    "    \n",
    "    with torch.no_grad():\n",
    "        for data, target in test_loader:\n",
    "            data, target = data.to(device), target.to(device)\n",
    "            output = model(data)\n",
    "            _, pred = torch.max(output, 1)\n",
    "            for i in range(len(pred)):\n",
    "                if pred[i] != target[i]:\n",
    "                    misclassified_images.append({'image': data[i], 'predicted_class': classes[pred[i]], 'correct_class': classes[target[i]]})\n",
    "\n",
    "    # Plot the misclassified images\n",
    "    fig = plt.figure(figsize=(20, 10))\n",
    "    for i in range(20):\n",
    "        sub = fig.add_subplot(4, 5, i+1)\n",
    "        misclassified_image = misclassified_images[i]\n",
    "        npimg = denormalize(misclassified_image['image'].cpu().numpy().squeeze())\n",
    "        plt.imshow(npimg, cmap=\"gray\")\n",
    "        sub.set_title(\"Correct class: {}\\nPredicted class: {}\".format(misclassified_image['correct_class'], misclassified_image['predicted_class']))\n",
    "    plt.tight_layout()\n",
    "    plt.show()"
   ]
  },
  {
   "attachments": {},
   "cell_type": "markdown",
   "metadata": {},
   "source": [
    "misclassified images"
   ]
  },
  {
   "cell_type": "code",
   "execution_count": null,
   "metadata": {},
   "outputs": [],
   "source": [
    "show_misclassified_images(model, test_loader, device)"
   ]
  },
  {
   "attachments": {},
   "cell_type": "markdown",
   "metadata": {},
   "source": [
    "Plots"
   ]
  },
  {
   "cell_type": "code",
   "execution_count": null,
   "metadata": {},
   "outputs": [],
   "source": [
    "fig, ax = plt.subplots(2, 2)\n",
    "\n",
    "train_epoch_loss_linspace = np.linspace(0, EPOCHS, len(trainer.train_losses))\n",
    "test_epoch_loss_linspace = np.linspace(0, EPOCHS, len(tester.test_losses))\n",
    "train_epoch_acc_linspace = np.linspace(0, EPOCHS, len(trainer.train_accuracies))\n",
    "test_epoch_acc_linspace = np.linspace(0, EPOCHS, len(tester.test_accuracies))\n",
    "\n",
    "ax[0][0].set_xlabel(\"Epoch\")\n",
    "ax[0][0].set_ylabel(\"Train Loss\")\n",
    "ax[0][0].plot(train_epoch_loss_linspace, trainer.train_losses)\n",
    "ax[0][0].tick_params(axis=\"y\", labelleft=True, labelright=True)\n",
    "\n",
    "ax[0][1].set_xlabel(\"Epoch\")\n",
    "ax[0][1].set_ylabel(\"Test Loss\")\n",
    "ax[0][1].plot(test_epoch_loss_linspace, tester.test_losses)\n",
    "ax[0][1].tick_params(axis=\"y\", labelleft=True, labelright=True)\n",
    "\n",
    "ax[1][0].set_xlabel(\"Epoch\")\n",
    "ax[1][0].set_ylabel(\"Train Accuracy\")\n",
    "ax[1][0].plot(train_epoch_acc_linspace, trainer.train_accuracies)\n",
    "ax[1][0].tick_params(axis=\"y\", labelleft=True, labelright=True)\n",
    "ax[1][0].yaxis.set_ticks(np.arange(0, 101, 5))\n",
    "\n",
    "ax[1][1].set_xlabel(\"Epoch\")\n",
    "ax[1][1].set_ylabel(\"Test Accuracy\")\n",
    "ax[1][1].plot(test_epoch_acc_linspace, tester.test_accuracies)\n",
    "ax[1][1].tick_params(axis=\"y\", labelleft=True, labelright=True)\n",
    "ax[1][1].yaxis.set_ticks(np.arange(0, 101, 5))\n",
    "\n",
    "fig.set_size_inches(28, 18)\n",
    "plt.tight_layout()\n",
    "plt.show()"
   ]
  }
 ],
 "metadata": {
  "language_info": {
   "name": "python"
  },
  "orig_nbformat": 4
 },
 "nbformat": 4,
 "nbformat_minor": 2
}
