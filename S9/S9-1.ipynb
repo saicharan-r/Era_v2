{
  "nbformat": 4,
  "nbformat_minor": 0,
  "metadata": {
    "colab": {
      "provenance": [],
      "gpuType": "T4",
      "authorship_tag": "ABX9TyNfKkCxHwM35boLcYmcPOXJ",
      "include_colab_link": true
    },
    "kernelspec": {
      "name": "python3",
      "display_name": "Python 3"
    },
    "language_info": {
      "name": "python"
    },
    "accelerator": "GPU"
  },
  "cells": [
    {
      "cell_type": "markdown",
      "metadata": {
        "id": "view-in-github",
        "colab_type": "text"
      },
      "source": [
        "<a href=\"https://colab.research.google.com/github/saicharan-r/Erav1/blob/main/S9/S9-1.ipynb\" target=\"_parent\"><img src=\"https://colab.research.google.com/assets/colab-badge.svg\" alt=\"Open In Colab\"/></a>"
      ]
    },
    {
      "cell_type": "code",
      "execution_count": 6,
      "metadata": {
        "colab": {
          "base_uri": "https://localhost:8080/"
        },
        "id": "TcFFyOfqPcgR",
        "outputId": "3c19d991-326d-4052-c097-a8ee9f3d156d"
      },
      "outputs": [
        {
          "output_type": "stream",
          "name": "stdout",
          "text": [
            "Drive already mounted at /content/drive; to attempt to forcibly remount, call drive.mount(\"/content/drive\", force_remount=True).\n"
          ]
        }
      ],
      "source": [
        "from google.colab import drive\n",
        "drive.mount('/content/drive')\n"
      ]
    },
    {
      "cell_type": "code",
      "source": [
        "%cd /content/drive/MyDrive/Era/S9"
      ],
      "metadata": {
        "colab": {
          "base_uri": "https://localhost:8080/"
        },
        "id": "pUWk14WfSec6",
        "outputId": "a463d415-7b27-4b0e-bedc-eaa57f653889"
      },
      "execution_count": 7,
      "outputs": [
        {
          "output_type": "stream",
          "name": "stdout",
          "text": [
            "/content/drive/MyDrive/Era/S9\n"
          ]
        }
      ]
    },
    {
      "cell_type": "code",
      "source": [
        "!pip install torchsummary\n",
        "from torchsummary import summary\n",
        "use_cuda = torch.cuda.is_available()\n",
        "device = torch.device(\"cuda\" if use_cuda else \"cpu\")\n",
        "print(device)\n",
        "model = Net().to(device)\n",
        "summary(model, input_size=(3, 32, 32))"
      ],
      "metadata": {
        "colab": {
          "base_uri": "https://localhost:8080/"
        },
        "id": "dC-O3ou8Ss4m",
        "outputId": "e18dbba7-1e02-4bc6-e5ec-e849baf0fada"
      },
      "execution_count": 8,
      "outputs": [
        {
          "output_type": "stream",
          "name": "stdout",
          "text": [
            "Requirement already satisfied: torchsummary in /usr/local/lib/python3.10/dist-packages (1.5.1)\n",
            "cuda\n",
            "----------------------------------------------------------------\n",
            "        Layer (type)               Output Shape         Param #\n",
            "================================================================\n",
            "            Conv2d-1          [-1, 128, 32, 32]           9,600\n",
            "              ReLU-2          [-1, 128, 32, 32]               0\n",
            "       BatchNorm2d-3          [-1, 128, 32, 32]             256\n",
            "           Dropout-4          [-1, 128, 32, 32]               0\n",
            "            Conv2d-5           [-1, 64, 32, 32]          73,728\n",
            "              ReLU-6           [-1, 64, 32, 32]               0\n",
            "       BatchNorm2d-7           [-1, 64, 32, 32]             128\n",
            "           Dropout-8           [-1, 64, 32, 32]               0\n",
            "            Conv2d-9           [-1, 32, 32, 32]          18,432\n",
            "             ReLU-10           [-1, 32, 32, 32]               0\n",
            "      BatchNorm2d-11           [-1, 32, 32, 32]              64\n",
            "          Dropout-12           [-1, 32, 32, 32]               0\n",
            "           Conv2d-13           [-1, 32, 16, 16]           9,216\n",
            "             ReLU-14           [-1, 32, 16, 16]               0\n",
            "      BatchNorm2d-15           [-1, 32, 16, 16]              64\n",
            "          Dropout-16           [-1, 32, 16, 16]               0\n",
            "           Conv2d-17           [-1, 64, 16, 16]             576\n",
            "           Conv2d-18           [-1, 32, 16, 16]           2,048\n",
            "             ReLU-19           [-1, 32, 16, 16]               0\n",
            "      BatchNorm2d-20           [-1, 32, 16, 16]              64\n",
            "          Dropout-21           [-1, 32, 16, 16]               0\n",
            "           Conv2d-22           [-1, 64, 16, 16]             576\n",
            "           Conv2d-23           [-1, 32, 16, 16]           2,048\n",
            "             ReLU-24           [-1, 32, 16, 16]               0\n",
            "      BatchNorm2d-25           [-1, 32, 16, 16]              64\n",
            "          Dropout-26           [-1, 32, 16, 16]               0\n",
            "           Conv2d-27             [-1, 32, 8, 8]           9,216\n",
            "             ReLU-28             [-1, 32, 8, 8]               0\n",
            "      BatchNorm2d-29             [-1, 32, 8, 8]              64\n",
            "          Dropout-30             [-1, 32, 8, 8]               0\n",
            "           Conv2d-31             [-1, 32, 8, 8]           9,216\n",
            "             ReLU-32             [-1, 32, 8, 8]               0\n",
            "      BatchNorm2d-33             [-1, 32, 8, 8]              64\n",
            "          Dropout-34             [-1, 32, 8, 8]               0\n",
            "           Conv2d-35             [-1, 32, 8, 8]           9,216\n",
            "             ReLU-36             [-1, 32, 8, 8]               0\n",
            "      BatchNorm2d-37             [-1, 32, 8, 8]              64\n",
            "          Dropout-38             [-1, 32, 8, 8]               0\n",
            "           Conv2d-39             [-1, 32, 4, 4]           9,216\n",
            "             ReLU-40             [-1, 32, 4, 4]               0\n",
            "      BatchNorm2d-41             [-1, 32, 4, 4]              64\n",
            "          Dropout-42             [-1, 32, 4, 4]               0\n",
            "           Conv2d-43             [-1, 64, 4, 4]             576\n",
            "           Conv2d-44             [-1, 32, 4, 4]           2,048\n",
            "             ReLU-45             [-1, 32, 4, 4]               0\n",
            "      BatchNorm2d-46             [-1, 32, 4, 4]              64\n",
            "          Dropout-47             [-1, 32, 4, 4]               0\n",
            "           Conv2d-48             [-1, 10, 4, 4]           2,880\n",
            "        AvgPool2d-49             [-1, 10, 1, 1]               0\n",
            "================================================================\n",
            "Total params: 159,552\n",
            "Trainable params: 159,552\n",
            "Non-trainable params: 0\n",
            "----------------------------------------------------------------\n",
            "Input size (MB): 0.01\n",
            "Forward/backward pass size (MB): 8.23\n",
            "Params size (MB): 0.61\n",
            "Estimated Total Size (MB): 8.85\n",
            "----------------------------------------------------------------\n"
          ]
        }
      ]
    },
    {
      "cell_type": "code",
      "source": [
        "from dataloader import Cifar10DataLoader\n",
        "\n",
        "cifar10 = Cifar10DataLoader(is_cuda_available=use_cuda)\n",
        "train_loader = cifar10.get_loader(True)\n",
        "test_loader = cifar10.get_loader(False)"
      ],
      "metadata": {
        "colab": {
          "base_uri": "https://localhost:8080/"
        },
        "id": "ZFKGO0eNSx6g",
        "outputId": "230f3f45-98cf-4f53-fcaf-1adc385d41b1"
      },
      "execution_count": 9,
      "outputs": [
        {
          "output_type": "stream",
          "name": "stdout",
          "text": [
            "Downloading https://www.cs.toronto.edu/~kriz/cifar-10-python.tar.gz to ./data/cifar-10-python.tar.gz\n"
          ]
        },
        {
          "output_type": "stream",
          "name": "stderr",
          "text": [
            "100%|██████████| 170498071/170498071 [00:01<00:00, 94532082.56it/s]\n"
          ]
        },
        {
          "output_type": "stream",
          "name": "stdout",
          "text": [
            "Extracting ./data/cifar-10-python.tar.gz to ./data\n",
            "Files already downloaded and verified\n"
          ]
        }
      ]
    },
    {
      "cell_type": "code",
      "source": [
        "import torch.optim as optim\n",
        "import torch.nn as nn\n",
        "from Train import Trainer\n",
        "from Test import Tester\n",
        "\n",
        "trainer = Trainer()\n",
        "tester = Tester()\n",
        "optimizer = optim.SGD(model.parameters(), lr=0.001, momentum=0.9)\n",
        "criterion = nn.NLLLoss()\n",
        "\n",
        "EPOCHS = 200\n",
        "\n",
        "for epoch in range(EPOCHS):\n",
        "    trainer.train(model, train_loader, optimizer, criterion, device, epoch)\n",
        "    tester.test(model, test_loader, criterion, device)"
      ],
      "metadata": {
        "colab": {
          "base_uri": "https://localhost:8080/"
        },
        "id": "MMvL3y0QSx9E",
        "outputId": "0b9ff866-e3e6-4043-d71c-73733307fae4"
      },
      "execution_count": 10,
      "outputs": [
        {
          "output_type": "stream",
          "name": "stderr",
          "text": [
            "EPOCH = 0 | LR = 0.001 | Loss = 1.78 | Batch = 390 | Accuracy = 24.03: 100%|██████████| 391/391 [00:30<00:00, 12.87it/s]\n"
          ]
        },
        {
          "output_type": "stream",
          "name": "stdout",
          "text": [
            "Test set: Average loss: 0.0132, Accuracy: 3616/10000 (36.16%)\n",
            "\n"
          ]
        },
        {
          "output_type": "stream",
          "name": "stderr",
          "text": [
            "EPOCH = 1 | LR = 0.001 | Loss = 1.65 | Batch = 390 | Accuracy = 36.47: 100%|██████████| 391/391 [00:18<00:00, 20.61it/s]\n"
          ]
        },
        {
          "output_type": "stream",
          "name": "stdout",
          "text": [
            "Test set: Average loss: 0.0118, Accuracy: 4432/10000 (44.32%)\n",
            "\n"
          ]
        },
        {
          "output_type": "stream",
          "name": "stderr",
          "text": [
            "EPOCH = 2 | LR = 0.001 | Loss = 1.49 | Batch = 390 | Accuracy = 42.14: 100%|██████████| 391/391 [00:19<00:00, 20.02it/s]\n"
          ]
        },
        {
          "output_type": "stream",
          "name": "stdout",
          "text": [
            "Test set: Average loss: 0.0110, Accuracy: 4922/10000 (49.22%)\n",
            "\n"
          ]
        },
        {
          "output_type": "stream",
          "name": "stderr",
          "text": [
            "EPOCH = 3 | LR = 0.001 | Loss = 1.33 | Batch = 390 | Accuracy = 45.45: 100%|██████████| 391/391 [00:19<00:00, 20.44it/s]\n"
          ]
        },
        {
          "output_type": "stream",
          "name": "stdout",
          "text": [
            "Test set: Average loss: 0.0103, Accuracy: 5260/10000 (52.60%)\n",
            "\n"
          ]
        },
        {
          "output_type": "stream",
          "name": "stderr",
          "text": [
            "EPOCH = 4 | LR = 0.001 | Loss = 1.45 | Batch = 390 | Accuracy = 47.44: 100%|██████████| 391/391 [00:18<00:00, 20.60it/s]\n"
          ]
        },
        {
          "output_type": "stream",
          "name": "stdout",
          "text": [
            "Test set: Average loss: 0.0099, Accuracy: 5464/10000 (54.64%)\n",
            "\n"
          ]
        },
        {
          "output_type": "stream",
          "name": "stderr",
          "text": [
            "EPOCH = 5 | LR = 0.001 | Loss = 1.41 | Batch = 390 | Accuracy = 49.39: 100%|██████████| 391/391 [00:21<00:00, 18.52it/s]\n"
          ]
        },
        {
          "output_type": "stream",
          "name": "stdout",
          "text": [
            "Test set: Average loss: 0.0096, Accuracy: 5634/10000 (56.34%)\n",
            "\n"
          ]
        },
        {
          "output_type": "stream",
          "name": "stderr",
          "text": [
            "EPOCH = 6 | LR = 0.001 | Loss = 1.37 | Batch = 390 | Accuracy = 50.85: 100%|██████████| 391/391 [00:21<00:00, 18.54it/s]\n"
          ]
        },
        {
          "output_type": "stream",
          "name": "stdout",
          "text": [
            "Test set: Average loss: 0.0092, Accuracy: 5820/10000 (58.20%)\n",
            "\n"
          ]
        },
        {
          "output_type": "stream",
          "name": "stderr",
          "text": [
            "EPOCH = 7 | LR = 0.001 | Loss = 1.36 | Batch = 390 | Accuracy = 52.57: 100%|██████████| 391/391 [00:20<00:00, 18.96it/s]\n"
          ]
        },
        {
          "output_type": "stream",
          "name": "stdout",
          "text": [
            "Test set: Average loss: 0.0086, Accuracy: 6045/10000 (60.45%)\n",
            "\n"
          ]
        },
        {
          "output_type": "stream",
          "name": "stderr",
          "text": [
            "EPOCH = 8 | LR = 0.001 | Loss = 1.34 | Batch = 390 | Accuracy = 53.98: 100%|██████████| 391/391 [00:19<00:00, 20.39it/s]\n"
          ]
        },
        {
          "output_type": "stream",
          "name": "stdout",
          "text": [
            "Test set: Average loss: 0.0084, Accuracy: 6250/10000 (62.50%)\n",
            "\n"
          ]
        },
        {
          "output_type": "stream",
          "name": "stderr",
          "text": [
            "EPOCH = 9 | LR = 0.001 | Loss = 1.31 | Batch = 390 | Accuracy = 54.99: 100%|██████████| 391/391 [00:20<00:00, 18.99it/s]\n"
          ]
        },
        {
          "output_type": "stream",
          "name": "stdout",
          "text": [
            "Test set: Average loss: 0.0083, Accuracy: 6271/10000 (62.71%)\n",
            "\n"
          ]
        },
        {
          "output_type": "stream",
          "name": "stderr",
          "text": [
            "EPOCH = 10 | LR = 0.001 | Loss = 1.07 | Batch = 390 | Accuracy = 56.17: 100%|██████████| 391/391 [00:19<00:00, 20.34it/s]\n"
          ]
        },
        {
          "output_type": "stream",
          "name": "stdout",
          "text": [
            "Test set: Average loss: 0.0078, Accuracy: 6457/10000 (64.57%)\n",
            "\n"
          ]
        },
        {
          "output_type": "stream",
          "name": "stderr",
          "text": [
            "EPOCH = 11 | LR = 0.001 | Loss = 1.28 | Batch = 390 | Accuracy = 56.81: 100%|██████████| 391/391 [00:20<00:00, 19.18it/s]\n"
          ]
        },
        {
          "output_type": "stream",
          "name": "stdout",
          "text": [
            "Test set: Average loss: 0.0077, Accuracy: 6497/10000 (64.97%)\n",
            "\n"
          ]
        },
        {
          "output_type": "stream",
          "name": "stderr",
          "text": [
            "EPOCH = 12 | LR = 0.001 | Loss = 1.17 | Batch = 390 | Accuracy = 57.63: 100%|██████████| 391/391 [00:19<00:00, 20.55it/s]\n"
          ]
        },
        {
          "output_type": "stream",
          "name": "stdout",
          "text": [
            "Test set: Average loss: 0.0074, Accuracy: 6600/10000 (66.00%)\n",
            "\n"
          ]
        },
        {
          "output_type": "stream",
          "name": "stderr",
          "text": [
            "EPOCH = 13 | LR = 0.001 | Loss = 1.11 | Batch = 390 | Accuracy = 58.55: 100%|██████████| 391/391 [00:20<00:00, 19.18it/s]\n"
          ]
        },
        {
          "output_type": "stream",
          "name": "stdout",
          "text": [
            "Test set: Average loss: 0.0075, Accuracy: 6668/10000 (66.68%)\n",
            "\n"
          ]
        },
        {
          "output_type": "stream",
          "name": "stderr",
          "text": [
            "EPOCH = 14 | LR = 0.001 | Loss = 1.20 | Batch = 390 | Accuracy = 59.38: 100%|██████████| 391/391 [00:19<00:00, 20.39it/s]\n"
          ]
        },
        {
          "output_type": "stream",
          "name": "stdout",
          "text": [
            "Test set: Average loss: 0.0071, Accuracy: 6836/10000 (68.36%)\n",
            "\n"
          ]
        },
        {
          "output_type": "stream",
          "name": "stderr",
          "text": [
            "EPOCH = 15 | LR = 0.001 | Loss = 0.97 | Batch = 390 | Accuracy = 60.16: 100%|██████████| 391/391 [00:22<00:00, 17.42it/s]\n"
          ]
        },
        {
          "output_type": "stream",
          "name": "stdout",
          "text": [
            "Test set: Average loss: 0.0068, Accuracy: 6918/10000 (69.18%)\n",
            "\n"
          ]
        },
        {
          "output_type": "stream",
          "name": "stderr",
          "text": [
            "EPOCH = 16 | LR = 0.001 | Loss = 0.89 | Batch = 390 | Accuracy = 60.35: 100%|██████████| 391/391 [00:18<00:00, 20.64it/s]\n"
          ]
        },
        {
          "output_type": "stream",
          "name": "stdout",
          "text": [
            "Test set: Average loss: 0.0068, Accuracy: 6924/10000 (69.24%)\n",
            "\n"
          ]
        },
        {
          "output_type": "stream",
          "name": "stderr",
          "text": [
            "EPOCH = 17 | LR = 0.001 | Loss = 1.20 | Batch = 390 | Accuracy = 61.46: 100%|██████████| 391/391 [00:20<00:00, 18.85it/s]\n"
          ]
        },
        {
          "output_type": "stream",
          "name": "stdout",
          "text": [
            "Test set: Average loss: 0.0065, Accuracy: 7080/10000 (70.80%)\n",
            "\n"
          ]
        },
        {
          "output_type": "stream",
          "name": "stderr",
          "text": [
            "EPOCH = 18 | LR = 0.001 | Loss = 1.01 | Batch = 390 | Accuracy = 61.86: 100%|██████████| 391/391 [00:19<00:00, 20.30it/s]\n"
          ]
        },
        {
          "output_type": "stream",
          "name": "stdout",
          "text": [
            "Test set: Average loss: 0.0065, Accuracy: 7089/10000 (70.89%)\n",
            "\n"
          ]
        },
        {
          "output_type": "stream",
          "name": "stderr",
          "text": [
            "EPOCH = 19 | LR = 0.001 | Loss = 1.14 | Batch = 390 | Accuracy = 62.49: 100%|██████████| 391/391 [00:20<00:00, 18.82it/s]\n"
          ]
        },
        {
          "output_type": "stream",
          "name": "stdout",
          "text": [
            "Test set: Average loss: 0.0064, Accuracy: 7138/10000 (71.38%)\n",
            "\n"
          ]
        },
        {
          "output_type": "stream",
          "name": "stderr",
          "text": [
            "EPOCH = 20 | LR = 0.001 | Loss = 1.09 | Batch = 390 | Accuracy = 62.98: 100%|██████████| 391/391 [00:19<00:00, 20.35it/s]\n"
          ]
        },
        {
          "output_type": "stream",
          "name": "stdout",
          "text": [
            "Test set: Average loss: 0.0063, Accuracy: 7204/10000 (72.04%)\n",
            "\n"
          ]
        },
        {
          "output_type": "stream",
          "name": "stderr",
          "text": [
            "EPOCH = 21 | LR = 0.001 | Loss = 1.18 | Batch = 390 | Accuracy = 63.24: 100%|██████████| 391/391 [00:20<00:00, 18.74it/s]\n"
          ]
        },
        {
          "output_type": "stream",
          "name": "stdout",
          "text": [
            "Test set: Average loss: 0.0061, Accuracy: 7324/10000 (73.24%)\n",
            "\n"
          ]
        },
        {
          "output_type": "stream",
          "name": "stderr",
          "text": [
            "EPOCH = 22 | LR = 0.001 | Loss = 1.10 | Batch = 390 | Accuracy = 64.28: 100%|██████████| 391/391 [00:19<00:00, 20.48it/s]\n"
          ]
        },
        {
          "output_type": "stream",
          "name": "stdout",
          "text": [
            "Test set: Average loss: 0.0060, Accuracy: 7327/10000 (73.27%)\n",
            "\n"
          ]
        },
        {
          "output_type": "stream",
          "name": "stderr",
          "text": [
            "EPOCH = 23 | LR = 0.001 | Loss = 1.00 | Batch = 390 | Accuracy = 64.11: 100%|██████████| 391/391 [00:20<00:00, 18.78it/s]\n"
          ]
        },
        {
          "output_type": "stream",
          "name": "stdout",
          "text": [
            "Test set: Average loss: 0.0060, Accuracy: 7338/10000 (73.38%)\n",
            "\n"
          ]
        },
        {
          "output_type": "stream",
          "name": "stderr",
          "text": [
            "EPOCH = 24 | LR = 0.001 | Loss = 0.95 | Batch = 390 | Accuracy = 64.77: 100%|██████████| 391/391 [00:19<00:00, 20.26it/s]\n"
          ]
        },
        {
          "output_type": "stream",
          "name": "stdout",
          "text": [
            "Test set: Average loss: 0.0059, Accuracy: 7368/10000 (73.68%)\n",
            "\n"
          ]
        },
        {
          "output_type": "stream",
          "name": "stderr",
          "text": [
            "EPOCH = 25 | LR = 0.001 | Loss = 0.85 | Batch = 390 | Accuracy = 65.08: 100%|██████████| 391/391 [00:21<00:00, 18.31it/s]\n"
          ]
        },
        {
          "output_type": "stream",
          "name": "stdout",
          "text": [
            "Test set: Average loss: 0.0058, Accuracy: 7479/10000 (74.79%)\n",
            "\n"
          ]
        },
        {
          "output_type": "stream",
          "name": "stderr",
          "text": [
            "EPOCH = 26 | LR = 0.001 | Loss = 0.97 | Batch = 390 | Accuracy = 65.68: 100%|██████████| 391/391 [00:19<00:00, 20.20it/s]\n"
          ]
        },
        {
          "output_type": "stream",
          "name": "stdout",
          "text": [
            "Test set: Average loss: 0.0058, Accuracy: 7444/10000 (74.44%)\n",
            "\n"
          ]
        },
        {
          "output_type": "stream",
          "name": "stderr",
          "text": [
            "EPOCH = 27 | LR = 0.001 | Loss = 0.88 | Batch = 390 | Accuracy = 65.92: 100%|██████████| 391/391 [00:20<00:00, 18.70it/s]\n"
          ]
        },
        {
          "output_type": "stream",
          "name": "stdout",
          "text": [
            "Test set: Average loss: 0.0057, Accuracy: 7492/10000 (74.92%)\n",
            "\n"
          ]
        },
        {
          "output_type": "stream",
          "name": "stderr",
          "text": [
            "EPOCH = 28 | LR = 0.001 | Loss = 0.96 | Batch = 390 | Accuracy = 66.16: 100%|██████████| 391/391 [00:19<00:00, 20.46it/s]\n"
          ]
        },
        {
          "output_type": "stream",
          "name": "stdout",
          "text": [
            "Test set: Average loss: 0.0055, Accuracy: 7554/10000 (75.54%)\n",
            "\n"
          ]
        },
        {
          "output_type": "stream",
          "name": "stderr",
          "text": [
            "EPOCH = 29 | LR = 0.001 | Loss = 1.15 | Batch = 390 | Accuracy = 66.56: 100%|██████████| 391/391 [00:20<00:00, 18.92it/s]\n"
          ]
        },
        {
          "output_type": "stream",
          "name": "stdout",
          "text": [
            "Test set: Average loss: 0.0055, Accuracy: 7586/10000 (75.86%)\n",
            "\n"
          ]
        },
        {
          "output_type": "stream",
          "name": "stderr",
          "text": [
            "EPOCH = 30 | LR = 0.001 | Loss = 0.89 | Batch = 390 | Accuracy = 66.58: 100%|██████████| 391/391 [00:19<00:00, 20.51it/s]\n"
          ]
        },
        {
          "output_type": "stream",
          "name": "stdout",
          "text": [
            "Test set: Average loss: 0.0054, Accuracy: 7650/10000 (76.50%)\n",
            "\n"
          ]
        },
        {
          "output_type": "stream",
          "name": "stderr",
          "text": [
            "EPOCH = 31 | LR = 0.001 | Loss = 0.96 | Batch = 390 | Accuracy = 66.92: 100%|██████████| 391/391 [00:20<00:00, 18.99it/s]\n"
          ]
        },
        {
          "output_type": "stream",
          "name": "stdout",
          "text": [
            "Test set: Average loss: 0.0054, Accuracy: 7681/10000 (76.81%)\n",
            "\n"
          ]
        },
        {
          "output_type": "stream",
          "name": "stderr",
          "text": [
            "EPOCH = 32 | LR = 0.001 | Loss = 1.00 | Batch = 390 | Accuracy = 67.28: 100%|██████████| 391/391 [00:19<00:00, 20.23it/s]\n"
          ]
        },
        {
          "output_type": "stream",
          "name": "stdout",
          "text": [
            "Test set: Average loss: 0.0054, Accuracy: 7647/10000 (76.47%)\n",
            "\n"
          ]
        },
        {
          "output_type": "stream",
          "name": "stderr",
          "text": [
            "EPOCH = 33 | LR = 0.001 | Loss = 1.05 | Batch = 390 | Accuracy = 67.70: 100%|██████████| 391/391 [00:20<00:00, 19.52it/s]\n"
          ]
        },
        {
          "output_type": "stream",
          "name": "stdout",
          "text": [
            "Test set: Average loss: 0.0055, Accuracy: 7587/10000 (75.87%)\n",
            "\n"
          ]
        },
        {
          "output_type": "stream",
          "name": "stderr",
          "text": [
            "EPOCH = 34 | LR = 0.001 | Loss = 0.95 | Batch = 390 | Accuracy = 67.75: 100%|██████████| 391/391 [00:21<00:00, 18.43it/s]\n"
          ]
        },
        {
          "output_type": "stream",
          "name": "stdout",
          "text": [
            "Test set: Average loss: 0.0052, Accuracy: 7702/10000 (77.02%)\n",
            "\n"
          ]
        },
        {
          "output_type": "stream",
          "name": "stderr",
          "text": [
            "EPOCH = 35 | LR = 0.001 | Loss = 0.97 | Batch = 390 | Accuracy = 68.00: 100%|██████████| 391/391 [00:19<00:00, 20.16it/s]\n"
          ]
        },
        {
          "output_type": "stream",
          "name": "stdout",
          "text": [
            "Test set: Average loss: 0.0053, Accuracy: 7671/10000 (76.71%)\n",
            "\n"
          ]
        },
        {
          "output_type": "stream",
          "name": "stderr",
          "text": [
            "EPOCH = 36 | LR = 0.001 | Loss = 0.85 | Batch = 390 | Accuracy = 68.38: 100%|██████████| 391/391 [00:19<00:00, 20.05it/s]\n"
          ]
        },
        {
          "output_type": "stream",
          "name": "stdout",
          "text": [
            "Test set: Average loss: 0.0051, Accuracy: 7764/10000 (77.64%)\n",
            "\n"
          ]
        },
        {
          "output_type": "stream",
          "name": "stderr",
          "text": [
            "EPOCH = 37 | LR = 0.001 | Loss = 0.90 | Batch = 390 | Accuracy = 68.41: 100%|██████████| 391/391 [00:19<00:00, 20.22it/s]\n"
          ]
        },
        {
          "output_type": "stream",
          "name": "stdout",
          "text": [
            "Test set: Average loss: 0.0051, Accuracy: 7718/10000 (77.18%)\n",
            "\n"
          ]
        },
        {
          "output_type": "stream",
          "name": "stderr",
          "text": [
            "EPOCH = 38 | LR = 0.001 | Loss = 0.89 | Batch = 390 | Accuracy = 68.85: 100%|██████████| 391/391 [00:19<00:00, 19.65it/s]\n"
          ]
        },
        {
          "output_type": "stream",
          "name": "stdout",
          "text": [
            "Test set: Average loss: 0.0051, Accuracy: 7771/10000 (77.71%)\n",
            "\n"
          ]
        },
        {
          "output_type": "stream",
          "name": "stderr",
          "text": [
            "EPOCH = 39 | LR = 0.001 | Loss = 0.83 | Batch = 390 | Accuracy = 69.24: 100%|██████████| 391/391 [00:19<00:00, 20.23it/s]\n"
          ]
        },
        {
          "output_type": "stream",
          "name": "stdout",
          "text": [
            "Test set: Average loss: 0.0053, Accuracy: 7683/10000 (76.83%)\n",
            "\n"
          ]
        },
        {
          "output_type": "stream",
          "name": "stderr",
          "text": [
            "EPOCH = 40 | LR = 0.001 | Loss = 0.70 | Batch = 390 | Accuracy = 69.07: 100%|██████████| 391/391 [00:20<00:00, 19.01it/s]\n"
          ]
        },
        {
          "output_type": "stream",
          "name": "stdout",
          "text": [
            "Test set: Average loss: 0.0051, Accuracy: 7832/10000 (78.32%)\n",
            "\n"
          ]
        },
        {
          "output_type": "stream",
          "name": "stderr",
          "text": [
            "EPOCH = 41 | LR = 0.001 | Loss = 1.10 | Batch = 390 | Accuracy = 69.20: 100%|██████████| 391/391 [00:19<00:00, 20.33it/s]\n"
          ]
        },
        {
          "output_type": "stream",
          "name": "stdout",
          "text": [
            "Test set: Average loss: 0.0049, Accuracy: 7817/10000 (78.17%)\n",
            "\n"
          ]
        },
        {
          "output_type": "stream",
          "name": "stderr",
          "text": [
            "EPOCH = 42 | LR = 0.001 | Loss = 0.87 | Batch = 390 | Accuracy = 69.47: 100%|██████████| 391/391 [00:20<00:00, 19.20it/s]\n"
          ]
        },
        {
          "output_type": "stream",
          "name": "stdout",
          "text": [
            "Test set: Average loss: 0.0049, Accuracy: 7860/10000 (78.60%)\n",
            "\n"
          ]
        },
        {
          "output_type": "stream",
          "name": "stderr",
          "text": [
            "EPOCH = 43 | LR = 0.001 | Loss = 0.77 | Batch = 390 | Accuracy = 69.83: 100%|██████████| 391/391 [00:21<00:00, 18.56it/s]\n"
          ]
        },
        {
          "output_type": "stream",
          "name": "stdout",
          "text": [
            "Test set: Average loss: 0.0050, Accuracy: 7792/10000 (77.92%)\n",
            "\n"
          ]
        },
        {
          "output_type": "stream",
          "name": "stderr",
          "text": [
            "EPOCH = 44 | LR = 0.001 | Loss = 0.73 | Batch = 390 | Accuracy = 69.70: 100%|██████████| 391/391 [00:20<00:00, 19.44it/s]\n"
          ]
        },
        {
          "output_type": "stream",
          "name": "stdout",
          "text": [
            "Test set: Average loss: 0.0050, Accuracy: 7866/10000 (78.66%)\n",
            "\n"
          ]
        },
        {
          "output_type": "stream",
          "name": "stderr",
          "text": [
            "EPOCH = 45 | LR = 0.001 | Loss = 0.89 | Batch = 390 | Accuracy = 69.88: 100%|██████████| 391/391 [00:19<00:00, 20.53it/s]\n"
          ]
        },
        {
          "output_type": "stream",
          "name": "stdout",
          "text": [
            "Test set: Average loss: 0.0048, Accuracy: 7920/10000 (79.20%)\n",
            "\n"
          ]
        },
        {
          "output_type": "stream",
          "name": "stderr",
          "text": [
            "EPOCH = 46 | LR = 0.001 | Loss = 0.86 | Batch = 390 | Accuracy = 69.91: 100%|██████████| 391/391 [00:20<00:00, 18.95it/s]\n"
          ]
        },
        {
          "output_type": "stream",
          "name": "stdout",
          "text": [
            "Test set: Average loss: 0.0048, Accuracy: 7937/10000 (79.37%)\n",
            "\n"
          ]
        },
        {
          "output_type": "stream",
          "name": "stderr",
          "text": [
            "EPOCH = 47 | LR = 0.001 | Loss = 0.99 | Batch = 390 | Accuracy = 70.42: 100%|██████████| 391/391 [00:19<00:00, 20.17it/s]\n"
          ]
        },
        {
          "output_type": "stream",
          "name": "stdout",
          "text": [
            "Test set: Average loss: 0.0047, Accuracy: 7972/10000 (79.72%)\n",
            "\n"
          ]
        },
        {
          "output_type": "stream",
          "name": "stderr",
          "text": [
            "EPOCH = 48 | LR = 0.001 | Loss = 0.81 | Batch = 390 | Accuracy = 70.59: 100%|██████████| 391/391 [00:20<00:00, 18.74it/s]\n"
          ]
        },
        {
          "output_type": "stream",
          "name": "stdout",
          "text": [
            "Test set: Average loss: 0.0048, Accuracy: 7880/10000 (78.80%)\n",
            "\n"
          ]
        },
        {
          "output_type": "stream",
          "name": "stderr",
          "text": [
            "EPOCH = 49 | LR = 0.001 | Loss = 0.83 | Batch = 390 | Accuracy = 70.72: 100%|██████████| 391/391 [00:19<00:00, 20.23it/s]\n"
          ]
        },
        {
          "output_type": "stream",
          "name": "stdout",
          "text": [
            "Test set: Average loss: 0.0047, Accuracy: 7933/10000 (79.33%)\n",
            "\n"
          ]
        },
        {
          "output_type": "stream",
          "name": "stderr",
          "text": [
            "EPOCH = 50 | LR = 0.001 | Loss = 0.89 | Batch = 390 | Accuracy = 70.71: 100%|██████████| 391/391 [00:21<00:00, 18.54it/s]\n"
          ]
        },
        {
          "output_type": "stream",
          "name": "stdout",
          "text": [
            "Test set: Average loss: 0.0048, Accuracy: 7892/10000 (78.92%)\n",
            "\n"
          ]
        },
        {
          "output_type": "stream",
          "name": "stderr",
          "text": [
            "EPOCH = 51 | LR = 0.001 | Loss = 0.71 | Batch = 390 | Accuracy = 71.29: 100%|██████████| 391/391 [00:19<00:00, 20.28it/s]\n"
          ]
        },
        {
          "output_type": "stream",
          "name": "stdout",
          "text": [
            "Test set: Average loss: 0.0047, Accuracy: 7944/10000 (79.44%)\n",
            "\n"
          ]
        },
        {
          "output_type": "stream",
          "name": "stderr",
          "text": [
            "EPOCH = 52 | LR = 0.001 | Loss = 0.81 | Batch = 390 | Accuracy = 70.63: 100%|██████████| 391/391 [00:21<00:00, 18.53it/s]\n"
          ]
        },
        {
          "output_type": "stream",
          "name": "stdout",
          "text": [
            "Test set: Average loss: 0.0046, Accuracy: 7996/10000 (79.96%)\n",
            "\n"
          ]
        },
        {
          "output_type": "stream",
          "name": "stderr",
          "text": [
            "EPOCH = 53 | LR = 0.001 | Loss = 0.87 | Batch = 390 | Accuracy = 70.94: 100%|██████████| 391/391 [00:19<00:00, 19.67it/s]\n"
          ]
        },
        {
          "output_type": "stream",
          "name": "stdout",
          "text": [
            "Test set: Average loss: 0.0046, Accuracy: 8003/10000 (80.03%)\n",
            "\n"
          ]
        },
        {
          "output_type": "stream",
          "name": "stderr",
          "text": [
            "EPOCH = 54 | LR = 0.001 | Loss = 0.85 | Batch = 390 | Accuracy = 71.21: 100%|██████████| 391/391 [00:19<00:00, 19.58it/s]\n"
          ]
        },
        {
          "output_type": "stream",
          "name": "stdout",
          "text": [
            "Test set: Average loss: 0.0047, Accuracy: 7987/10000 (79.87%)\n",
            "\n"
          ]
        },
        {
          "output_type": "stream",
          "name": "stderr",
          "text": [
            "EPOCH = 55 | LR = 0.001 | Loss = 0.71 | Batch = 390 | Accuracy = 71.71: 100%|██████████| 391/391 [00:19<00:00, 20.24it/s]\n"
          ]
        },
        {
          "output_type": "stream",
          "name": "stdout",
          "text": [
            "Test set: Average loss: 0.0045, Accuracy: 8051/10000 (80.51%)\n",
            "\n"
          ]
        },
        {
          "output_type": "stream",
          "name": "stderr",
          "text": [
            "EPOCH = 56 | LR = 0.001 | Loss = 0.79 | Batch = 390 | Accuracy = 71.46: 100%|██████████| 391/391 [00:19<00:00, 20.27it/s]\n"
          ]
        },
        {
          "output_type": "stream",
          "name": "stdout",
          "text": [
            "Test set: Average loss: 0.0045, Accuracy: 8107/10000 (81.07%)\n",
            "\n"
          ]
        },
        {
          "output_type": "stream",
          "name": "stderr",
          "text": [
            "EPOCH = 57 | LR = 0.001 | Loss = 0.67 | Batch = 390 | Accuracy = 71.93: 100%|██████████| 391/391 [00:20<00:00, 19.47it/s]\n"
          ]
        },
        {
          "output_type": "stream",
          "name": "stdout",
          "text": [
            "Test set: Average loss: 0.0046, Accuracy: 8015/10000 (80.15%)\n",
            "\n"
          ]
        },
        {
          "output_type": "stream",
          "name": "stderr",
          "text": [
            "EPOCH = 58 | LR = 0.001 | Loss = 0.79 | Batch = 390 | Accuracy = 72.04: 100%|██████████| 391/391 [00:19<00:00, 20.07it/s]\n"
          ]
        },
        {
          "output_type": "stream",
          "name": "stdout",
          "text": [
            "Test set: Average loss: 0.0044, Accuracy: 8059/10000 (80.59%)\n",
            "\n"
          ]
        },
        {
          "output_type": "stream",
          "name": "stderr",
          "text": [
            "EPOCH = 59 | LR = 0.001 | Loss = 0.85 | Batch = 390 | Accuracy = 71.96: 100%|██████████| 391/391 [00:20<00:00, 18.72it/s]\n"
          ]
        },
        {
          "output_type": "stream",
          "name": "stdout",
          "text": [
            "Test set: Average loss: 0.0045, Accuracy: 8040/10000 (80.40%)\n",
            "\n"
          ]
        },
        {
          "output_type": "stream",
          "name": "stderr",
          "text": [
            "EPOCH = 60 | LR = 0.001 | Loss = 0.75 | Batch = 390 | Accuracy = 72.35: 100%|██████████| 391/391 [00:19<00:00, 20.17it/s]\n"
          ]
        },
        {
          "output_type": "stream",
          "name": "stdout",
          "text": [
            "Test set: Average loss: 0.0045, Accuracy: 8073/10000 (80.73%)\n",
            "\n"
          ]
        },
        {
          "output_type": "stream",
          "name": "stderr",
          "text": [
            "EPOCH = 61 | LR = 0.001 | Loss = 0.88 | Batch = 390 | Accuracy = 72.27: 100%|██████████| 391/391 [00:20<00:00, 18.76it/s]\n"
          ]
        },
        {
          "output_type": "stream",
          "name": "stdout",
          "text": [
            "Test set: Average loss: 0.0043, Accuracy: 8168/10000 (81.68%)\n",
            "\n"
          ]
        },
        {
          "output_type": "stream",
          "name": "stderr",
          "text": [
            "EPOCH = 62 | LR = 0.001 | Loss = 0.68 | Batch = 390 | Accuracy = 72.30: 100%|██████████| 391/391 [00:20<00:00, 18.72it/s]\n"
          ]
        },
        {
          "output_type": "stream",
          "name": "stdout",
          "text": [
            "Test set: Average loss: 0.0043, Accuracy: 8124/10000 (81.24%)\n",
            "\n"
          ]
        },
        {
          "output_type": "stream",
          "name": "stderr",
          "text": [
            "EPOCH = 63 | LR = 0.001 | Loss = 1.03 | Batch = 390 | Accuracy = 72.29: 100%|██████████| 391/391 [00:20<00:00, 18.97it/s]\n"
          ]
        },
        {
          "output_type": "stream",
          "name": "stdout",
          "text": [
            "Test set: Average loss: 0.0044, Accuracy: 8083/10000 (80.83%)\n",
            "\n"
          ]
        },
        {
          "output_type": "stream",
          "name": "stderr",
          "text": [
            "EPOCH = 64 | LR = 0.001 | Loss = 0.73 | Batch = 390 | Accuracy = 72.63: 100%|██████████| 391/391 [00:19<00:00, 20.23it/s]\n"
          ]
        },
        {
          "output_type": "stream",
          "name": "stdout",
          "text": [
            "Test set: Average loss: 0.0044, Accuracy: 8141/10000 (81.41%)\n",
            "\n"
          ]
        },
        {
          "output_type": "stream",
          "name": "stderr",
          "text": [
            "EPOCH = 65 | LR = 0.001 | Loss = 0.94 | Batch = 390 | Accuracy = 72.50: 100%|██████████| 391/391 [00:20<00:00, 19.38it/s]\n"
          ]
        },
        {
          "output_type": "stream",
          "name": "stdout",
          "text": [
            "Test set: Average loss: 0.0043, Accuracy: 8123/10000 (81.23%)\n",
            "\n"
          ]
        },
        {
          "output_type": "stream",
          "name": "stderr",
          "text": [
            "EPOCH = 66 | LR = 0.001 | Loss = 0.98 | Batch = 390 | Accuracy = 72.95: 100%|██████████| 391/391 [00:19<00:00, 20.33it/s]\n"
          ]
        },
        {
          "output_type": "stream",
          "name": "stdout",
          "text": [
            "Test set: Average loss: 0.0042, Accuracy: 8162/10000 (81.62%)\n",
            "\n"
          ]
        },
        {
          "output_type": "stream",
          "name": "stderr",
          "text": [
            "EPOCH = 67 | LR = 0.001 | Loss = 0.66 | Batch = 390 | Accuracy = 72.69: 100%|██████████| 391/391 [00:19<00:00, 19.88it/s]\n"
          ]
        },
        {
          "output_type": "stream",
          "name": "stdout",
          "text": [
            "Test set: Average loss: 0.0043, Accuracy: 8130/10000 (81.30%)\n",
            "\n"
          ]
        },
        {
          "output_type": "stream",
          "name": "stderr",
          "text": [
            "EPOCH = 68 | LR = 0.001 | Loss = 1.04 | Batch = 390 | Accuracy = 73.02: 100%|██████████| 391/391 [00:19<00:00, 20.41it/s]\n"
          ]
        },
        {
          "output_type": "stream",
          "name": "stdout",
          "text": [
            "Test set: Average loss: 0.0043, Accuracy: 8158/10000 (81.58%)\n",
            "\n"
          ]
        },
        {
          "output_type": "stream",
          "name": "stderr",
          "text": [
            "EPOCH = 69 | LR = 0.001 | Loss = 0.79 | Batch = 390 | Accuracy = 73.23: 100%|██████████| 391/391 [00:19<00:00, 20.05it/s]\n"
          ]
        },
        {
          "output_type": "stream",
          "name": "stdout",
          "text": [
            "Test set: Average loss: 0.0043, Accuracy: 8159/10000 (81.59%)\n",
            "\n"
          ]
        },
        {
          "output_type": "stream",
          "name": "stderr",
          "text": [
            "EPOCH = 70 | LR = 0.001 | Loss = 0.66 | Batch = 390 | Accuracy = 73.18: 100%|██████████| 391/391 [00:19<00:00, 19.61it/s]\n"
          ]
        },
        {
          "output_type": "stream",
          "name": "stdout",
          "text": [
            "Test set: Average loss: 0.0042, Accuracy: 8169/10000 (81.69%)\n",
            "\n"
          ]
        },
        {
          "output_type": "stream",
          "name": "stderr",
          "text": [
            "EPOCH = 71 | LR = 0.001 | Loss = 0.79 | Batch = 390 | Accuracy = 73.34: 100%|██████████| 391/391 [00:20<00:00, 18.73it/s]\n"
          ]
        },
        {
          "output_type": "stream",
          "name": "stdout",
          "text": [
            "Test set: Average loss: 0.0042, Accuracy: 8180/10000 (81.80%)\n",
            "\n"
          ]
        },
        {
          "output_type": "stream",
          "name": "stderr",
          "text": [
            "EPOCH = 72 | LR = 0.001 | Loss = 0.70 | Batch = 390 | Accuracy = 73.26: 100%|██████████| 391/391 [00:21<00:00, 18.54it/s]\n"
          ]
        },
        {
          "output_type": "stream",
          "name": "stdout",
          "text": [
            "Test set: Average loss: 0.0043, Accuracy: 8128/10000 (81.28%)\n",
            "\n"
          ]
        },
        {
          "output_type": "stream",
          "name": "stderr",
          "text": [
            "EPOCH = 73 | LR = 0.001 | Loss = 0.90 | Batch = 390 | Accuracy = 73.48: 100%|██████████| 391/391 [00:19<00:00, 20.29it/s]\n"
          ]
        },
        {
          "output_type": "stream",
          "name": "stdout",
          "text": [
            "Test set: Average loss: 0.0043, Accuracy: 8117/10000 (81.17%)\n",
            "\n"
          ]
        },
        {
          "output_type": "stream",
          "name": "stderr",
          "text": [
            "EPOCH = 74 | LR = 0.001 | Loss = 0.65 | Batch = 390 | Accuracy = 73.56: 100%|██████████| 391/391 [00:20<00:00, 18.70it/s]\n"
          ]
        },
        {
          "output_type": "stream",
          "name": "stdout",
          "text": [
            "Test set: Average loss: 0.0043, Accuracy: 8142/10000 (81.42%)\n",
            "\n"
          ]
        },
        {
          "output_type": "stream",
          "name": "stderr",
          "text": [
            "EPOCH = 75 | LR = 0.001 | Loss = 0.70 | Batch = 390 | Accuracy = 73.89: 100%|██████████| 391/391 [00:19<00:00, 20.22it/s]\n"
          ]
        },
        {
          "output_type": "stream",
          "name": "stdout",
          "text": [
            "Test set: Average loss: 0.0041, Accuracy: 8218/10000 (82.18%)\n",
            "\n"
          ]
        },
        {
          "output_type": "stream",
          "name": "stderr",
          "text": [
            "EPOCH = 76 | LR = 0.001 | Loss = 0.92 | Batch = 390 | Accuracy = 73.86: 100%|██████████| 391/391 [00:21<00:00, 18.59it/s]\n"
          ]
        },
        {
          "output_type": "stream",
          "name": "stdout",
          "text": [
            "Test set: Average loss: 0.0041, Accuracy: 8214/10000 (82.14%)\n",
            "\n"
          ]
        },
        {
          "output_type": "stream",
          "name": "stderr",
          "text": [
            "EPOCH = 77 | LR = 0.001 | Loss = 0.95 | Batch = 390 | Accuracy = 73.77: 100%|██████████| 391/391 [00:19<00:00, 20.26it/s]\n"
          ]
        },
        {
          "output_type": "stream",
          "name": "stdout",
          "text": [
            "Test set: Average loss: 0.0041, Accuracy: 8235/10000 (82.35%)\n",
            "\n"
          ]
        },
        {
          "output_type": "stream",
          "name": "stderr",
          "text": [
            "EPOCH = 78 | LR = 0.001 | Loss = 0.92 | Batch = 390 | Accuracy = 74.12: 100%|██████████| 391/391 [00:20<00:00, 18.67it/s]\n"
          ]
        },
        {
          "output_type": "stream",
          "name": "stdout",
          "text": [
            "Test set: Average loss: 0.0041, Accuracy: 8240/10000 (82.40%)\n",
            "\n"
          ]
        },
        {
          "output_type": "stream",
          "name": "stderr",
          "text": [
            "EPOCH = 79 | LR = 0.001 | Loss = 0.57 | Batch = 390 | Accuracy = 74.04: 100%|██████████| 391/391 [00:19<00:00, 20.00it/s]\n"
          ]
        },
        {
          "output_type": "stream",
          "name": "stdout",
          "text": [
            "Test set: Average loss: 0.0041, Accuracy: 8233/10000 (82.33%)\n",
            "\n"
          ]
        },
        {
          "output_type": "stream",
          "name": "stderr",
          "text": [
            "EPOCH = 80 | LR = 0.001 | Loss = 0.91 | Batch = 390 | Accuracy = 74.03: 100%|██████████| 391/391 [00:22<00:00, 17.13it/s]\n"
          ]
        },
        {
          "output_type": "stream",
          "name": "stdout",
          "text": [
            "Test set: Average loss: 0.0041, Accuracy: 8228/10000 (82.28%)\n",
            "\n"
          ]
        },
        {
          "output_type": "stream",
          "name": "stderr",
          "text": [
            "EPOCH = 81 | LR = 0.001 | Loss = 0.68 | Batch = 390 | Accuracy = 74.19: 100%|██████████| 391/391 [00:19<00:00, 20.24it/s]\n"
          ]
        },
        {
          "output_type": "stream",
          "name": "stdout",
          "text": [
            "Test set: Average loss: 0.0041, Accuracy: 8255/10000 (82.55%)\n",
            "\n"
          ]
        },
        {
          "output_type": "stream",
          "name": "stderr",
          "text": [
            "EPOCH = 82 | LR = 0.001 | Loss = 0.79 | Batch = 390 | Accuracy = 74.31: 100%|██████████| 391/391 [00:19<00:00, 19.73it/s]\n"
          ]
        },
        {
          "output_type": "stream",
          "name": "stdout",
          "text": [
            "Test set: Average loss: 0.0041, Accuracy: 8237/10000 (82.37%)\n",
            "\n"
          ]
        },
        {
          "output_type": "stream",
          "name": "stderr",
          "text": [
            "EPOCH = 83 | LR = 0.001 | Loss = 0.94 | Batch = 390 | Accuracy = 74.44: 100%|██████████| 391/391 [00:20<00:00, 19.51it/s]\n"
          ]
        },
        {
          "output_type": "stream",
          "name": "stdout",
          "text": [
            "Test set: Average loss: 0.0041, Accuracy: 8212/10000 (82.12%)\n",
            "\n"
          ]
        },
        {
          "output_type": "stream",
          "name": "stderr",
          "text": [
            "EPOCH = 84 | LR = 0.001 | Loss = 0.60 | Batch = 390 | Accuracy = 74.18: 100%|██████████| 391/391 [00:19<00:00, 20.25it/s]\n"
          ]
        },
        {
          "output_type": "stream",
          "name": "stdout",
          "text": [
            "Test set: Average loss: 0.0040, Accuracy: 8256/10000 (82.56%)\n",
            "\n"
          ]
        },
        {
          "output_type": "stream",
          "name": "stderr",
          "text": [
            "EPOCH = 85 | LR = 0.001 | Loss = 0.55 | Batch = 390 | Accuracy = 74.12: 100%|██████████| 391/391 [00:19<00:00, 19.74it/s]\n"
          ]
        },
        {
          "output_type": "stream",
          "name": "stdout",
          "text": [
            "Test set: Average loss: 0.0040, Accuracy: 8252/10000 (82.52%)\n",
            "\n"
          ]
        },
        {
          "output_type": "stream",
          "name": "stderr",
          "text": [
            "EPOCH = 86 | LR = 0.001 | Loss = 0.74 | Batch = 390 | Accuracy = 74.63: 100%|██████████| 391/391 [00:19<00:00, 20.27it/s]\n"
          ]
        },
        {
          "output_type": "stream",
          "name": "stdout",
          "text": [
            "Test set: Average loss: 0.0040, Accuracy: 8252/10000 (82.52%)\n",
            "\n"
          ]
        },
        {
          "output_type": "stream",
          "name": "stderr",
          "text": [
            "EPOCH = 87 | LR = 0.001 | Loss = 0.67 | Batch = 390 | Accuracy = 74.63: 100%|██████████| 391/391 [00:19<00:00, 19.78it/s]\n"
          ]
        },
        {
          "output_type": "stream",
          "name": "stdout",
          "text": [
            "Test set: Average loss: 0.0039, Accuracy: 8302/10000 (83.02%)\n",
            "\n"
          ]
        },
        {
          "output_type": "stream",
          "name": "stderr",
          "text": [
            "EPOCH = 88 | LR = 0.001 | Loss = 0.84 | Batch = 390 | Accuracy = 74.65: 100%|██████████| 391/391 [00:19<00:00, 20.07it/s]\n"
          ]
        },
        {
          "output_type": "stream",
          "name": "stdout",
          "text": [
            "Test set: Average loss: 0.0039, Accuracy: 8293/10000 (82.93%)\n",
            "\n"
          ]
        },
        {
          "output_type": "stream",
          "name": "stderr",
          "text": [
            "EPOCH = 89 | LR = 0.001 | Loss = 0.79 | Batch = 390 | Accuracy = 74.52: 100%|██████████| 391/391 [00:22<00:00, 17.32it/s]\n"
          ]
        },
        {
          "output_type": "stream",
          "name": "stdout",
          "text": [
            "Test set: Average loss: 0.0039, Accuracy: 8295/10000 (82.95%)\n",
            "\n"
          ]
        },
        {
          "output_type": "stream",
          "name": "stderr",
          "text": [
            "EPOCH = 90 | LR = 0.001 | Loss = 0.60 | Batch = 390 | Accuracy = 74.87: 100%|██████████| 391/391 [00:19<00:00, 20.22it/s]\n"
          ]
        },
        {
          "output_type": "stream",
          "name": "stdout",
          "text": [
            "Test set: Average loss: 0.0040, Accuracy: 8283/10000 (82.83%)\n",
            "\n"
          ]
        },
        {
          "output_type": "stream",
          "name": "stderr",
          "text": [
            "EPOCH = 91 | LR = 0.001 | Loss = 0.65 | Batch = 390 | Accuracy = 74.74: 100%|██████████| 391/391 [00:20<00:00, 18.64it/s]\n"
          ]
        },
        {
          "output_type": "stream",
          "name": "stdout",
          "text": [
            "Test set: Average loss: 0.0039, Accuracy: 8314/10000 (83.14%)\n",
            "\n"
          ]
        },
        {
          "output_type": "stream",
          "name": "stderr",
          "text": [
            "EPOCH = 92 | LR = 0.001 | Loss = 0.70 | Batch = 390 | Accuracy = 74.78: 100%|██████████| 391/391 [00:19<00:00, 19.98it/s]\n"
          ]
        },
        {
          "output_type": "stream",
          "name": "stdout",
          "text": [
            "Test set: Average loss: 0.0039, Accuracy: 8303/10000 (83.03%)\n",
            "\n"
          ]
        },
        {
          "output_type": "stream",
          "name": "stderr",
          "text": [
            "EPOCH = 93 | LR = 0.001 | Loss = 0.81 | Batch = 390 | Accuracy = 74.68: 100%|██████████| 391/391 [00:21<00:00, 18.52it/s]\n"
          ]
        },
        {
          "output_type": "stream",
          "name": "stdout",
          "text": [
            "Test set: Average loss: 0.0040, Accuracy: 8289/10000 (82.89%)\n",
            "\n"
          ]
        },
        {
          "output_type": "stream",
          "name": "stderr",
          "text": [
            "EPOCH = 94 | LR = 0.001 | Loss = 0.52 | Batch = 390 | Accuracy = 74.99: 100%|██████████| 391/391 [00:19<00:00, 20.36it/s]\n"
          ]
        },
        {
          "output_type": "stream",
          "name": "stdout",
          "text": [
            "Test set: Average loss: 0.0038, Accuracy: 8336/10000 (83.36%)\n",
            "\n"
          ]
        },
        {
          "output_type": "stream",
          "name": "stderr",
          "text": [
            "EPOCH = 95 | LR = 0.001 | Loss = 0.55 | Batch = 390 | Accuracy = 75.05: 100%|██████████| 391/391 [00:20<00:00, 18.69it/s]\n"
          ]
        },
        {
          "output_type": "stream",
          "name": "stdout",
          "text": [
            "Test set: Average loss: 0.0040, Accuracy: 8263/10000 (82.63%)\n",
            "\n"
          ]
        },
        {
          "output_type": "stream",
          "name": "stderr",
          "text": [
            "EPOCH = 96 | LR = 0.001 | Loss = 0.72 | Batch = 390 | Accuracy = 75.01: 100%|██████████| 391/391 [00:19<00:00, 20.04it/s]\n"
          ]
        },
        {
          "output_type": "stream",
          "name": "stdout",
          "text": [
            "Test set: Average loss: 0.0039, Accuracy: 8328/10000 (83.28%)\n",
            "\n"
          ]
        },
        {
          "output_type": "stream",
          "name": "stderr",
          "text": [
            "EPOCH = 97 | LR = 0.001 | Loss = 0.68 | Batch = 390 | Accuracy = 75.34: 100%|██████████| 391/391 [00:21<00:00, 18.49it/s]\n"
          ]
        },
        {
          "output_type": "stream",
          "name": "stdout",
          "text": [
            "Test set: Average loss: 0.0039, Accuracy: 8350/10000 (83.50%)\n",
            "\n"
          ]
        },
        {
          "output_type": "stream",
          "name": "stderr",
          "text": [
            "EPOCH = 98 | LR = 0.001 | Loss = 0.80 | Batch = 390 | Accuracy = 75.37: 100%|██████████| 391/391 [00:20<00:00, 18.68it/s]\n"
          ]
        },
        {
          "output_type": "stream",
          "name": "stdout",
          "text": [
            "Test set: Average loss: 0.0040, Accuracy: 8286/10000 (82.86%)\n",
            "\n"
          ]
        },
        {
          "output_type": "stream",
          "name": "stderr",
          "text": [
            "EPOCH = 99 | LR = 0.001 | Loss = 0.68 | Batch = 390 | Accuracy = 75.38: 100%|██████████| 391/391 [00:20<00:00, 19.35it/s]\n"
          ]
        },
        {
          "output_type": "stream",
          "name": "stdout",
          "text": [
            "Test set: Average loss: 0.0039, Accuracy: 8283/10000 (82.83%)\n",
            "\n"
          ]
        },
        {
          "output_type": "stream",
          "name": "stderr",
          "text": [
            "EPOCH = 100 | LR = 0.001 | Loss = 0.60 | Batch = 390 | Accuracy = 75.56: 100%|██████████| 391/391 [00:19<00:00, 19.84it/s]\n"
          ]
        },
        {
          "output_type": "stream",
          "name": "stdout",
          "text": [
            "Test set: Average loss: 0.0038, Accuracy: 8348/10000 (83.48%)\n",
            "\n"
          ]
        },
        {
          "output_type": "stream",
          "name": "stderr",
          "text": [
            "EPOCH = 101 | LR = 0.001 | Loss = 0.67 | Batch = 390 | Accuracy = 75.54: 100%|██████████| 391/391 [00:19<00:00, 19.99it/s]\n"
          ]
        },
        {
          "output_type": "stream",
          "name": "stdout",
          "text": [
            "Test set: Average loss: 0.0038, Accuracy: 8352/10000 (83.52%)\n",
            "\n"
          ]
        },
        {
          "output_type": "stream",
          "name": "stderr",
          "text": [
            "EPOCH = 102 | LR = 0.001 | Loss = 1.01 | Batch = 390 | Accuracy = 75.64: 100%|██████████| 391/391 [00:20<00:00, 19.49it/s]\n"
          ]
        },
        {
          "output_type": "stream",
          "name": "stdout",
          "text": [
            "Test set: Average loss: 0.0039, Accuracy: 8321/10000 (83.21%)\n",
            "\n"
          ]
        },
        {
          "output_type": "stream",
          "name": "stderr",
          "text": [
            "EPOCH = 103 | LR = 0.001 | Loss = 0.62 | Batch = 390 | Accuracy = 75.60: 100%|██████████| 391/391 [00:19<00:00, 20.10it/s]\n"
          ]
        },
        {
          "output_type": "stream",
          "name": "stdout",
          "text": [
            "Test set: Average loss: 0.0037, Accuracy: 8407/10000 (84.07%)\n",
            "\n"
          ]
        },
        {
          "output_type": "stream",
          "name": "stderr",
          "text": [
            "EPOCH = 104 | LR = 0.001 | Loss = 0.74 | Batch = 390 | Accuracy = 75.71: 100%|██████████| 391/391 [00:20<00:00, 19.10it/s]\n"
          ]
        },
        {
          "output_type": "stream",
          "name": "stdout",
          "text": [
            "Test set: Average loss: 0.0038, Accuracy: 8318/10000 (83.18%)\n",
            "\n"
          ]
        },
        {
          "output_type": "stream",
          "name": "stderr",
          "text": [
            "EPOCH = 105 | LR = 0.001 | Loss = 0.81 | Batch = 390 | Accuracy = 75.45: 100%|██████████| 391/391 [00:19<00:00, 20.18it/s]\n"
          ]
        },
        {
          "output_type": "stream",
          "name": "stdout",
          "text": [
            "Test set: Average loss: 0.0037, Accuracy: 8351/10000 (83.51%)\n",
            "\n"
          ]
        },
        {
          "output_type": "stream",
          "name": "stderr",
          "text": [
            "EPOCH = 106 | LR = 0.001 | Loss = 0.68 | Batch = 390 | Accuracy = 75.90: 100%|██████████| 391/391 [00:20<00:00, 18.87it/s]\n"
          ]
        },
        {
          "output_type": "stream",
          "name": "stdout",
          "text": [
            "Test set: Average loss: 0.0037, Accuracy: 8374/10000 (83.74%)\n",
            "\n"
          ]
        },
        {
          "output_type": "stream",
          "name": "stderr",
          "text": [
            "EPOCH = 107 | LR = 0.001 | Loss = 0.64 | Batch = 390 | Accuracy = 75.80: 100%|██████████| 391/391 [00:21<00:00, 18.48it/s]\n"
          ]
        },
        {
          "output_type": "stream",
          "name": "stdout",
          "text": [
            "Test set: Average loss: 0.0037, Accuracy: 8412/10000 (84.12%)\n",
            "\n"
          ]
        },
        {
          "output_type": "stream",
          "name": "stderr",
          "text": [
            "EPOCH = 108 | LR = 0.001 | Loss = 0.71 | Batch = 390 | Accuracy = 76.01: 100%|██████████| 391/391 [00:20<00:00, 18.63it/s]\n"
          ]
        },
        {
          "output_type": "stream",
          "name": "stdout",
          "text": [
            "Test set: Average loss: 0.0037, Accuracy: 8418/10000 (84.18%)\n",
            "\n"
          ]
        },
        {
          "output_type": "stream",
          "name": "stderr",
          "text": [
            "EPOCH = 109 | LR = 0.001 | Loss = 0.59 | Batch = 390 | Accuracy = 75.71: 100%|██████████| 391/391 [00:19<00:00, 20.14it/s]\n"
          ]
        },
        {
          "output_type": "stream",
          "name": "stdout",
          "text": [
            "Test set: Average loss: 0.0038, Accuracy: 8336/10000 (83.36%)\n",
            "\n"
          ]
        },
        {
          "output_type": "stream",
          "name": "stderr",
          "text": [
            "EPOCH = 110 | LR = 0.001 | Loss = 0.79 | Batch = 390 | Accuracy = 75.78: 100%|██████████| 391/391 [00:21<00:00, 18.52it/s]\n"
          ]
        },
        {
          "output_type": "stream",
          "name": "stdout",
          "text": [
            "Test set: Average loss: 0.0039, Accuracy: 8314/10000 (83.14%)\n",
            "\n"
          ]
        },
        {
          "output_type": "stream",
          "name": "stderr",
          "text": [
            "EPOCH = 111 | LR = 0.001 | Loss = 0.66 | Batch = 390 | Accuracy = 76.29: 100%|██████████| 391/391 [00:19<00:00, 20.02it/s]\n"
          ]
        },
        {
          "output_type": "stream",
          "name": "stdout",
          "text": [
            "Test set: Average loss: 0.0038, Accuracy: 8356/10000 (83.56%)\n",
            "\n"
          ]
        },
        {
          "output_type": "stream",
          "name": "stderr",
          "text": [
            "EPOCH = 112 | LR = 0.001 | Loss = 0.62 | Batch = 390 | Accuracy = 75.95: 100%|██████████| 391/391 [00:21<00:00, 18.47it/s]\n"
          ]
        },
        {
          "output_type": "stream",
          "name": "stdout",
          "text": [
            "Test set: Average loss: 0.0037, Accuracy: 8402/10000 (84.02%)\n",
            "\n"
          ]
        },
        {
          "output_type": "stream",
          "name": "stderr",
          "text": [
            "EPOCH = 113 | LR = 0.001 | Loss = 0.76 | Batch = 390 | Accuracy = 75.97: 100%|██████████| 391/391 [00:19<00:00, 20.18it/s]\n"
          ]
        },
        {
          "output_type": "stream",
          "name": "stdout",
          "text": [
            "Test set: Average loss: 0.0036, Accuracy: 8424/10000 (84.24%)\n",
            "\n"
          ]
        },
        {
          "output_type": "stream",
          "name": "stderr",
          "text": [
            "EPOCH = 114 | LR = 0.001 | Loss = 0.74 | Batch = 390 | Accuracy = 76.16: 100%|██████████| 391/391 [00:20<00:00, 18.65it/s]\n"
          ]
        },
        {
          "output_type": "stream",
          "name": "stdout",
          "text": [
            "Test set: Average loss: 0.0036, Accuracy: 8425/10000 (84.25%)\n",
            "\n"
          ]
        },
        {
          "output_type": "stream",
          "name": "stderr",
          "text": [
            "EPOCH = 115 | LR = 0.001 | Loss = 0.83 | Batch = 390 | Accuracy = 75.99: 100%|██████████| 391/391 [00:19<00:00, 19.95it/s]\n"
          ]
        },
        {
          "output_type": "stream",
          "name": "stdout",
          "text": [
            "Test set: Average loss: 0.0037, Accuracy: 8420/10000 (84.20%)\n",
            "\n"
          ]
        },
        {
          "output_type": "stream",
          "name": "stderr",
          "text": [
            "EPOCH = 116 | LR = 0.001 | Loss = 0.68 | Batch = 390 | Accuracy = 76.09: 100%|██████████| 391/391 [00:22<00:00, 17.20it/s]\n"
          ]
        },
        {
          "output_type": "stream",
          "name": "stdout",
          "text": [
            "Test set: Average loss: 0.0037, Accuracy: 8401/10000 (84.01%)\n",
            "\n"
          ]
        },
        {
          "output_type": "stream",
          "name": "stderr",
          "text": [
            "EPOCH = 117 | LR = 0.001 | Loss = 0.70 | Batch = 390 | Accuracy = 76.35: 100%|██████████| 391/391 [00:19<00:00, 20.01it/s]\n"
          ]
        },
        {
          "output_type": "stream",
          "name": "stdout",
          "text": [
            "Test set: Average loss: 0.0037, Accuracy: 8388/10000 (83.88%)\n",
            "\n"
          ]
        },
        {
          "output_type": "stream",
          "name": "stderr",
          "text": [
            "EPOCH = 118 | LR = 0.001 | Loss = 0.71 | Batch = 390 | Accuracy = 76.07: 100%|██████████| 391/391 [00:19<00:00, 19.91it/s]\n"
          ]
        },
        {
          "output_type": "stream",
          "name": "stdout",
          "text": [
            "Test set: Average loss: 0.0037, Accuracy: 8430/10000 (84.30%)\n",
            "\n"
          ]
        },
        {
          "output_type": "stream",
          "name": "stderr",
          "text": [
            "EPOCH = 119 | LR = 0.001 | Loss = 0.73 | Batch = 390 | Accuracy = 76.68: 100%|██████████| 391/391 [00:20<00:00, 19.55it/s]\n"
          ]
        },
        {
          "output_type": "stream",
          "name": "stdout",
          "text": [
            "Test set: Average loss: 0.0037, Accuracy: 8412/10000 (84.12%)\n",
            "\n"
          ]
        },
        {
          "output_type": "stream",
          "name": "stderr",
          "text": [
            "EPOCH = 120 | LR = 0.001 | Loss = 0.68 | Batch = 390 | Accuracy = 76.37: 100%|██████████| 391/391 [00:19<00:00, 19.99it/s]\n"
          ]
        },
        {
          "output_type": "stream",
          "name": "stdout",
          "text": [
            "Test set: Average loss: 0.0036, Accuracy: 8443/10000 (84.43%)\n",
            "\n"
          ]
        },
        {
          "output_type": "stream",
          "name": "stderr",
          "text": [
            "EPOCH = 121 | LR = 0.001 | Loss = 0.71 | Batch = 390 | Accuracy = 76.39: 100%|██████████| 391/391 [00:20<00:00, 19.19it/s]\n"
          ]
        },
        {
          "output_type": "stream",
          "name": "stdout",
          "text": [
            "Test set: Average loss: 0.0036, Accuracy: 8423/10000 (84.23%)\n",
            "\n"
          ]
        },
        {
          "output_type": "stream",
          "name": "stderr",
          "text": [
            "EPOCH = 122 | LR = 0.001 | Loss = 0.42 | Batch = 390 | Accuracy = 76.58: 100%|██████████| 391/391 [00:19<00:00, 20.07it/s]\n"
          ]
        },
        {
          "output_type": "stream",
          "name": "stdout",
          "text": [
            "Test set: Average loss: 0.0037, Accuracy: 8427/10000 (84.27%)\n",
            "\n"
          ]
        },
        {
          "output_type": "stream",
          "name": "stderr",
          "text": [
            "EPOCH = 123 | LR = 0.001 | Loss = 0.72 | Batch = 390 | Accuracy = 76.45: 100%|██████████| 391/391 [00:21<00:00, 18.61it/s]\n"
          ]
        },
        {
          "output_type": "stream",
          "name": "stdout",
          "text": [
            "Test set: Average loss: 0.0036, Accuracy: 8414/10000 (84.14%)\n",
            "\n"
          ]
        },
        {
          "output_type": "stream",
          "name": "stderr",
          "text": [
            "EPOCH = 124 | LR = 0.001 | Loss = 1.05 | Batch = 390 | Accuracy = 76.82: 100%|██████████| 391/391 [00:19<00:00, 20.11it/s]\n"
          ]
        },
        {
          "output_type": "stream",
          "name": "stdout",
          "text": [
            "Test set: Average loss: 0.0036, Accuracy: 8415/10000 (84.15%)\n",
            "\n"
          ]
        },
        {
          "output_type": "stream",
          "name": "stderr",
          "text": [
            "EPOCH = 125 | LR = 0.001 | Loss = 0.66 | Batch = 390 | Accuracy = 76.49: 100%|██████████| 391/391 [00:22<00:00, 17.11it/s]\n"
          ]
        },
        {
          "output_type": "stream",
          "name": "stdout",
          "text": [
            "Test set: Average loss: 0.0036, Accuracy: 8436/10000 (84.36%)\n",
            "\n"
          ]
        },
        {
          "output_type": "stream",
          "name": "stderr",
          "text": [
            "EPOCH = 126 | LR = 0.001 | Loss = 0.80 | Batch = 390 | Accuracy = 76.54: 100%|██████████| 391/391 [00:19<00:00, 20.09it/s]\n"
          ]
        },
        {
          "output_type": "stream",
          "name": "stdout",
          "text": [
            "Test set: Average loss: 0.0036, Accuracy: 8417/10000 (84.17%)\n",
            "\n"
          ]
        },
        {
          "output_type": "stream",
          "name": "stderr",
          "text": [
            "EPOCH = 127 | LR = 0.001 | Loss = 0.63 | Batch = 390 | Accuracy = 76.56: 100%|██████████| 391/391 [00:21<00:00, 18.61it/s]\n"
          ]
        },
        {
          "output_type": "stream",
          "name": "stdout",
          "text": [
            "Test set: Average loss: 0.0036, Accuracy: 8443/10000 (84.43%)\n",
            "\n"
          ]
        },
        {
          "output_type": "stream",
          "name": "stderr",
          "text": [
            "EPOCH = 128 | LR = 0.001 | Loss = 0.58 | Batch = 390 | Accuracy = 76.97: 100%|██████████| 391/391 [00:19<00:00, 19.93it/s]\n"
          ]
        },
        {
          "output_type": "stream",
          "name": "stdout",
          "text": [
            "Test set: Average loss: 0.0035, Accuracy: 8439/10000 (84.39%)\n",
            "\n"
          ]
        },
        {
          "output_type": "stream",
          "name": "stderr",
          "text": [
            "EPOCH = 129 | LR = 0.001 | Loss = 0.55 | Batch = 390 | Accuracy = 76.77: 100%|██████████| 391/391 [00:21<00:00, 18.48it/s]\n"
          ]
        },
        {
          "output_type": "stream",
          "name": "stdout",
          "text": [
            "Test set: Average loss: 0.0036, Accuracy: 8412/10000 (84.12%)\n",
            "\n"
          ]
        },
        {
          "output_type": "stream",
          "name": "stderr",
          "text": [
            "EPOCH = 130 | LR = 0.001 | Loss = 0.53 | Batch = 390 | Accuracy = 76.98: 100%|██████████| 391/391 [00:19<00:00, 20.21it/s]\n"
          ]
        },
        {
          "output_type": "stream",
          "name": "stdout",
          "text": [
            "Test set: Average loss: 0.0035, Accuracy: 8435/10000 (84.35%)\n",
            "\n"
          ]
        },
        {
          "output_type": "stream",
          "name": "stderr",
          "text": [
            "EPOCH = 131 | LR = 0.001 | Loss = 0.46 | Batch = 390 | Accuracy = 77.02: 100%|██████████| 391/391 [00:21<00:00, 18.32it/s]\n"
          ]
        },
        {
          "output_type": "stream",
          "name": "stdout",
          "text": [
            "Test set: Average loss: 0.0036, Accuracy: 8467/10000 (84.67%)\n",
            "\n"
          ]
        },
        {
          "output_type": "stream",
          "name": "stderr",
          "text": [
            "EPOCH = 132 | LR = 0.001 | Loss = 0.54 | Batch = 390 | Accuracy = 77.07: 100%|██████████| 391/391 [00:19<00:00, 20.04it/s]\n"
          ]
        },
        {
          "output_type": "stream",
          "name": "stdout",
          "text": [
            "Test set: Average loss: 0.0035, Accuracy: 8454/10000 (84.54%)\n",
            "\n"
          ]
        },
        {
          "output_type": "stream",
          "name": "stderr",
          "text": [
            "EPOCH = 133 | LR = 0.001 | Loss = 0.86 | Batch = 390 | Accuracy = 76.71: 100%|██████████| 391/391 [00:20<00:00, 18.71it/s]\n"
          ]
        },
        {
          "output_type": "stream",
          "name": "stdout",
          "text": [
            "Test set: Average loss: 0.0035, Accuracy: 8452/10000 (84.52%)\n",
            "\n"
          ]
        },
        {
          "output_type": "stream",
          "name": "stderr",
          "text": [
            "EPOCH = 134 | LR = 0.001 | Loss = 0.59 | Batch = 390 | Accuracy = 76.75: 100%|██████████| 391/391 [00:21<00:00, 18.37it/s]\n"
          ]
        },
        {
          "output_type": "stream",
          "name": "stdout",
          "text": [
            "Test set: Average loss: 0.0036, Accuracy: 8434/10000 (84.34%)\n",
            "\n"
          ]
        },
        {
          "output_type": "stream",
          "name": "stderr",
          "text": [
            "EPOCH = 135 | LR = 0.001 | Loss = 0.77 | Batch = 390 | Accuracy = 77.06: 100%|██████████| 391/391 [00:19<00:00, 19.83it/s]\n"
          ]
        },
        {
          "output_type": "stream",
          "name": "stdout",
          "text": [
            "Test set: Average loss: 0.0035, Accuracy: 8499/10000 (84.99%)\n",
            "\n"
          ]
        },
        {
          "output_type": "stream",
          "name": "stderr",
          "text": [
            "EPOCH = 136 | LR = 0.001 | Loss = 0.74 | Batch = 390 | Accuracy = 76.92: 100%|██████████| 391/391 [00:20<00:00, 19.47it/s]\n"
          ]
        },
        {
          "output_type": "stream",
          "name": "stdout",
          "text": [
            "Test set: Average loss: 0.0035, Accuracy: 8490/10000 (84.90%)\n",
            "\n"
          ]
        },
        {
          "output_type": "stream",
          "name": "stderr",
          "text": [
            "EPOCH = 137 | LR = 0.001 | Loss = 0.69 | Batch = 390 | Accuracy = 77.30: 100%|██████████| 391/391 [00:19<00:00, 20.10it/s]\n"
          ]
        },
        {
          "output_type": "stream",
          "name": "stdout",
          "text": [
            "Test set: Average loss: 0.0036, Accuracy: 8445/10000 (84.45%)\n",
            "\n"
          ]
        },
        {
          "output_type": "stream",
          "name": "stderr",
          "text": [
            "EPOCH = 138 | LR = 0.001 | Loss = 0.71 | Batch = 390 | Accuracy = 77.19: 100%|██████████| 391/391 [00:20<00:00, 18.91it/s]\n"
          ]
        },
        {
          "output_type": "stream",
          "name": "stdout",
          "text": [
            "Test set: Average loss: 0.0035, Accuracy: 8495/10000 (84.95%)\n",
            "\n"
          ]
        },
        {
          "output_type": "stream",
          "name": "stderr",
          "text": [
            "EPOCH = 139 | LR = 0.001 | Loss = 0.51 | Batch = 390 | Accuracy = 76.82: 100%|██████████| 391/391 [00:19<00:00, 19.83it/s]\n"
          ]
        },
        {
          "output_type": "stream",
          "name": "stdout",
          "text": [
            "Test set: Average loss: 0.0035, Accuracy: 8487/10000 (84.87%)\n",
            "\n"
          ]
        },
        {
          "output_type": "stream",
          "name": "stderr",
          "text": [
            "EPOCH = 140 | LR = 0.001 | Loss = 0.66 | Batch = 390 | Accuracy = 77.13: 100%|██████████| 391/391 [00:20<00:00, 18.90it/s]\n"
          ]
        },
        {
          "output_type": "stream",
          "name": "stdout",
          "text": [
            "Test set: Average loss: 0.0035, Accuracy: 8520/10000 (85.20%)\n",
            "\n"
          ]
        },
        {
          "output_type": "stream",
          "name": "stderr",
          "text": [
            "EPOCH = 141 | LR = 0.001 | Loss = 0.82 | Batch = 390 | Accuracy = 77.06: 100%|██████████| 391/391 [00:19<00:00, 20.08it/s]\n"
          ]
        },
        {
          "output_type": "stream",
          "name": "stdout",
          "text": [
            "Test set: Average loss: 0.0035, Accuracy: 8472/10000 (84.72%)\n",
            "\n"
          ]
        },
        {
          "output_type": "stream",
          "name": "stderr",
          "text": [
            "EPOCH = 142 | LR = 0.001 | Loss = 0.70 | Batch = 390 | Accuracy = 77.40: 100%|██████████| 391/391 [00:20<00:00, 18.87it/s]\n"
          ]
        },
        {
          "output_type": "stream",
          "name": "stdout",
          "text": [
            "Test set: Average loss: 0.0035, Accuracy: 8480/10000 (84.80%)\n",
            "\n"
          ]
        },
        {
          "output_type": "stream",
          "name": "stderr",
          "text": [
            "EPOCH = 143 | LR = 0.001 | Loss = 0.73 | Batch = 390 | Accuracy = 77.29: 100%|██████████| 391/391 [00:19<00:00, 19.59it/s]\n"
          ]
        },
        {
          "output_type": "stream",
          "name": "stdout",
          "text": [
            "Test set: Average loss: 0.0035, Accuracy: 8492/10000 (84.92%)\n",
            "\n"
          ]
        },
        {
          "output_type": "stream",
          "name": "stderr",
          "text": [
            "EPOCH = 144 | LR = 0.001 | Loss = 0.58 | Batch = 390 | Accuracy = 77.39: 100%|██████████| 391/391 [00:20<00:00, 19.38it/s]\n"
          ]
        },
        {
          "output_type": "stream",
          "name": "stdout",
          "text": [
            "Test set: Average loss: 0.0035, Accuracy: 8489/10000 (84.89%)\n",
            "\n"
          ]
        },
        {
          "output_type": "stream",
          "name": "stderr",
          "text": [
            "EPOCH = 145 | LR = 0.001 | Loss = 0.60 | Batch = 390 | Accuracy = 77.33: 100%|██████████| 391/391 [00:19<00:00, 20.01it/s]\n"
          ]
        },
        {
          "output_type": "stream",
          "name": "stdout",
          "text": [
            "Test set: Average loss: 0.0035, Accuracy: 8510/10000 (85.10%)\n",
            "\n"
          ]
        },
        {
          "output_type": "stream",
          "name": "stderr",
          "text": [
            "EPOCH = 146 | LR = 0.001 | Loss = 0.76 | Batch = 390 | Accuracy = 77.32: 100%|██████████| 391/391 [00:20<00:00, 19.00it/s]\n"
          ]
        },
        {
          "output_type": "stream",
          "name": "stdout",
          "text": [
            "Test set: Average loss: 0.0034, Accuracy: 8505/10000 (85.05%)\n",
            "\n"
          ]
        },
        {
          "output_type": "stream",
          "name": "stderr",
          "text": [
            "EPOCH = 147 | LR = 0.001 | Loss = 0.64 | Batch = 390 | Accuracy = 77.05: 100%|██████████| 391/391 [00:19<00:00, 20.18it/s]\n"
          ]
        },
        {
          "output_type": "stream",
          "name": "stdout",
          "text": [
            "Test set: Average loss: 0.0034, Accuracy: 8562/10000 (85.62%)\n",
            "\n"
          ]
        },
        {
          "output_type": "stream",
          "name": "stderr",
          "text": [
            "EPOCH = 148 | LR = 0.001 | Loss = 0.80 | Batch = 390 | Accuracy = 77.25: 100%|██████████| 391/391 [00:20<00:00, 18.79it/s]\n"
          ]
        },
        {
          "output_type": "stream",
          "name": "stdout",
          "text": [
            "Test set: Average loss: 0.0035, Accuracy: 8453/10000 (84.53%)\n",
            "\n"
          ]
        },
        {
          "output_type": "stream",
          "name": "stderr",
          "text": [
            "EPOCH = 149 | LR = 0.001 | Loss = 0.53 | Batch = 390 | Accuracy = 77.51: 100%|██████████| 391/391 [00:19<00:00, 20.00it/s]\n"
          ]
        },
        {
          "output_type": "stream",
          "name": "stdout",
          "text": [
            "Test set: Average loss: 0.0034, Accuracy: 8543/10000 (85.43%)\n",
            "\n"
          ]
        },
        {
          "output_type": "stream",
          "name": "stderr",
          "text": [
            "EPOCH = 150 | LR = 0.001 | Loss = 0.47 | Batch = 390 | Accuracy = 77.40: 100%|██████████| 391/391 [00:21<00:00, 18.54it/s]\n"
          ]
        },
        {
          "output_type": "stream",
          "name": "stdout",
          "text": [
            "Test set: Average loss: 0.0034, Accuracy: 8502/10000 (85.02%)\n",
            "\n"
          ]
        },
        {
          "output_type": "stream",
          "name": "stderr",
          "text": [
            "EPOCH = 151 | LR = 0.001 | Loss = 0.70 | Batch = 390 | Accuracy = 77.68: 100%|██████████| 391/391 [00:21<00:00, 18.46it/s]\n"
          ]
        },
        {
          "output_type": "stream",
          "name": "stdout",
          "text": [
            "Test set: Average loss: 0.0034, Accuracy: 8522/10000 (85.22%)\n",
            "\n"
          ]
        },
        {
          "output_type": "stream",
          "name": "stderr",
          "text": [
            "EPOCH = 152 | LR = 0.001 | Loss = 0.73 | Batch = 390 | Accuracy = 77.43: 100%|██████████| 391/391 [00:21<00:00, 18.52it/s]\n"
          ]
        },
        {
          "output_type": "stream",
          "name": "stdout",
          "text": [
            "Test set: Average loss: 0.0034, Accuracy: 8518/10000 (85.18%)\n",
            "\n"
          ]
        },
        {
          "output_type": "stream",
          "name": "stderr",
          "text": [
            "EPOCH = 153 | LR = 0.001 | Loss = 0.70 | Batch = 390 | Accuracy = 77.64: 100%|██████████| 391/391 [00:19<00:00, 19.63it/s]\n"
          ]
        },
        {
          "output_type": "stream",
          "name": "stdout",
          "text": [
            "Test set: Average loss: 0.0034, Accuracy: 8523/10000 (85.23%)\n",
            "\n"
          ]
        },
        {
          "output_type": "stream",
          "name": "stderr",
          "text": [
            "EPOCH = 154 | LR = 0.001 | Loss = 0.97 | Batch = 390 | Accuracy = 77.56: 100%|██████████| 391/391 [00:21<00:00, 17.86it/s]\n"
          ]
        },
        {
          "output_type": "stream",
          "name": "stdout",
          "text": [
            "Test set: Average loss: 0.0034, Accuracy: 8532/10000 (85.32%)\n",
            "\n"
          ]
        },
        {
          "output_type": "stream",
          "name": "stderr",
          "text": [
            "EPOCH = 155 | LR = 0.001 | Loss = 0.59 | Batch = 390 | Accuracy = 77.40: 100%|██████████| 391/391 [00:20<00:00, 19.33it/s]\n"
          ]
        },
        {
          "output_type": "stream",
          "name": "stdout",
          "text": [
            "Test set: Average loss: 0.0035, Accuracy: 8558/10000 (85.58%)\n",
            "\n"
          ]
        },
        {
          "output_type": "stream",
          "name": "stderr",
          "text": [
            "EPOCH = 156 | LR = 0.001 | Loss = 0.57 | Batch = 390 | Accuracy = 77.83: 100%|██████████| 391/391 [00:21<00:00, 18.32it/s]\n"
          ]
        },
        {
          "output_type": "stream",
          "name": "stdout",
          "text": [
            "Test set: Average loss: 0.0034, Accuracy: 8542/10000 (85.42%)\n",
            "\n"
          ]
        },
        {
          "output_type": "stream",
          "name": "stderr",
          "text": [
            "EPOCH = 157 | LR = 0.001 | Loss = 0.61 | Batch = 390 | Accuracy = 77.43: 100%|██████████| 391/391 [00:19<00:00, 19.74it/s]\n"
          ]
        },
        {
          "output_type": "stream",
          "name": "stdout",
          "text": [
            "Test set: Average loss: 0.0034, Accuracy: 8577/10000 (85.77%)\n",
            "\n"
          ]
        },
        {
          "output_type": "stream",
          "name": "stderr",
          "text": [
            "EPOCH = 158 | LR = 0.001 | Loss = 0.82 | Batch = 390 | Accuracy = 77.64: 100%|██████████| 391/391 [00:21<00:00, 18.06it/s]\n"
          ]
        },
        {
          "output_type": "stream",
          "name": "stdout",
          "text": [
            "Test set: Average loss: 0.0034, Accuracy: 8497/10000 (84.97%)\n",
            "\n"
          ]
        },
        {
          "output_type": "stream",
          "name": "stderr",
          "text": [
            "EPOCH = 159 | LR = 0.001 | Loss = 0.69 | Batch = 390 | Accuracy = 77.65: 100%|██████████| 391/391 [00:19<00:00, 19.65it/s]\n"
          ]
        },
        {
          "output_type": "stream",
          "name": "stdout",
          "text": [
            "Test set: Average loss: 0.0035, Accuracy: 8489/10000 (84.89%)\n",
            "\n"
          ]
        },
        {
          "output_type": "stream",
          "name": "stderr",
          "text": [
            "EPOCH = 160 | LR = 0.001 | Loss = 0.67 | Batch = 390 | Accuracy = 77.91: 100%|██████████| 391/391 [00:22<00:00, 17.47it/s]\n"
          ]
        },
        {
          "output_type": "stream",
          "name": "stdout",
          "text": [
            "Test set: Average loss: 0.0034, Accuracy: 8533/10000 (85.33%)\n",
            "\n"
          ]
        },
        {
          "output_type": "stream",
          "name": "stderr",
          "text": [
            "EPOCH = 161 | LR = 0.001 | Loss = 0.59 | Batch = 390 | Accuracy = 78.17: 100%|██████████| 391/391 [00:20<00:00, 19.18it/s]\n"
          ]
        },
        {
          "output_type": "stream",
          "name": "stdout",
          "text": [
            "Test set: Average loss: 0.0034, Accuracy: 8550/10000 (85.50%)\n",
            "\n"
          ]
        },
        {
          "output_type": "stream",
          "name": "stderr",
          "text": [
            "EPOCH = 162 | LR = 0.001 | Loss = 0.79 | Batch = 390 | Accuracy = 77.80: 100%|██████████| 391/391 [00:19<00:00, 19.80it/s]\n"
          ]
        },
        {
          "output_type": "stream",
          "name": "stdout",
          "text": [
            "Test set: Average loss: 0.0033, Accuracy: 8579/10000 (85.79%)\n",
            "\n"
          ]
        },
        {
          "output_type": "stream",
          "name": "stderr",
          "text": [
            "EPOCH = 163 | LR = 0.001 | Loss = 0.82 | Batch = 390 | Accuracy = 77.86: 100%|██████████| 391/391 [00:20<00:00, 18.85it/s]\n"
          ]
        },
        {
          "output_type": "stream",
          "name": "stdout",
          "text": [
            "Test set: Average loss: 0.0034, Accuracy: 8533/10000 (85.33%)\n",
            "\n"
          ]
        },
        {
          "output_type": "stream",
          "name": "stderr",
          "text": [
            "EPOCH = 164 | LR = 0.001 | Loss = 0.61 | Batch = 390 | Accuracy = 78.02: 100%|██████████| 391/391 [00:19<00:00, 19.72it/s]\n"
          ]
        },
        {
          "output_type": "stream",
          "name": "stdout",
          "text": [
            "Test set: Average loss: 0.0034, Accuracy: 8536/10000 (85.36%)\n",
            "\n"
          ]
        },
        {
          "output_type": "stream",
          "name": "stderr",
          "text": [
            "EPOCH = 165 | LR = 0.001 | Loss = 0.73 | Batch = 390 | Accuracy = 77.72: 100%|██████████| 391/391 [00:20<00:00, 18.71it/s]\n"
          ]
        },
        {
          "output_type": "stream",
          "name": "stdout",
          "text": [
            "Test set: Average loss: 0.0034, Accuracy: 8549/10000 (85.49%)\n",
            "\n"
          ]
        },
        {
          "output_type": "stream",
          "name": "stderr",
          "text": [
            "EPOCH = 166 | LR = 0.001 | Loss = 0.68 | Batch = 390 | Accuracy = 78.07: 100%|██████████| 391/391 [00:19<00:00, 19.88it/s]\n"
          ]
        },
        {
          "output_type": "stream",
          "name": "stdout",
          "text": [
            "Test set: Average loss: 0.0034, Accuracy: 8564/10000 (85.64%)\n",
            "\n"
          ]
        },
        {
          "output_type": "stream",
          "name": "stderr",
          "text": [
            "EPOCH = 167 | LR = 0.001 | Loss = 0.57 | Batch = 390 | Accuracy = 78.00: 100%|██████████| 391/391 [00:21<00:00, 18.21it/s]\n"
          ]
        },
        {
          "output_type": "stream",
          "name": "stdout",
          "text": [
            "Test set: Average loss: 0.0033, Accuracy: 8541/10000 (85.41%)\n",
            "\n"
          ]
        },
        {
          "output_type": "stream",
          "name": "stderr",
          "text": [
            "EPOCH = 168 | LR = 0.001 | Loss = 0.58 | Batch = 390 | Accuracy = 78.20: 100%|██████████| 391/391 [00:21<00:00, 18.40it/s]\n"
          ]
        },
        {
          "output_type": "stream",
          "name": "stdout",
          "text": [
            "Test set: Average loss: 0.0034, Accuracy: 8536/10000 (85.36%)\n",
            "\n"
          ]
        },
        {
          "output_type": "stream",
          "name": "stderr",
          "text": [
            "EPOCH = 169 | LR = 0.001 | Loss = 0.80 | Batch = 390 | Accuracy = 78.36: 100%|██████████| 391/391 [00:21<00:00, 18.47it/s]\n"
          ]
        },
        {
          "output_type": "stream",
          "name": "stdout",
          "text": [
            "Test set: Average loss: 0.0034, Accuracy: 8529/10000 (85.29%)\n",
            "\n"
          ]
        },
        {
          "output_type": "stream",
          "name": "stderr",
          "text": [
            "EPOCH = 170 | LR = 0.001 | Loss = 0.66 | Batch = 390 | Accuracy = 78.23: 100%|██████████| 391/391 [00:19<00:00, 19.87it/s]\n"
          ]
        },
        {
          "output_type": "stream",
          "name": "stdout",
          "text": [
            "Test set: Average loss: 0.0034, Accuracy: 8500/10000 (85.00%)\n",
            "\n"
          ]
        },
        {
          "output_type": "stream",
          "name": "stderr",
          "text": [
            "EPOCH = 171 | LR = 0.001 | Loss = 0.70 | Batch = 390 | Accuracy = 78.17: 100%|██████████| 391/391 [00:20<00:00, 18.97it/s]\n"
          ]
        },
        {
          "output_type": "stream",
          "name": "stdout",
          "text": [
            "Test set: Average loss: 0.0034, Accuracy: 8521/10000 (85.21%)\n",
            "\n"
          ]
        },
        {
          "output_type": "stream",
          "name": "stderr",
          "text": [
            "EPOCH = 172 | LR = 0.001 | Loss = 0.57 | Batch = 390 | Accuracy = 78.32: 100%|██████████| 391/391 [00:20<00:00, 19.43it/s]\n"
          ]
        },
        {
          "output_type": "stream",
          "name": "stdout",
          "text": [
            "Test set: Average loss: 0.0033, Accuracy: 8592/10000 (85.92%)\n",
            "\n"
          ]
        },
        {
          "output_type": "stream",
          "name": "stderr",
          "text": [
            "EPOCH = 173 | LR = 0.001 | Loss = 0.92 | Batch = 390 | Accuracy = 78.29: 100%|██████████| 391/391 [00:19<00:00, 19.85it/s]\n"
          ]
        },
        {
          "output_type": "stream",
          "name": "stdout",
          "text": [
            "Test set: Average loss: 0.0033, Accuracy: 8557/10000 (85.57%)\n",
            "\n"
          ]
        },
        {
          "output_type": "stream",
          "name": "stderr",
          "text": [
            "EPOCH = 174 | LR = 0.001 | Loss = 0.63 | Batch = 390 | Accuracy = 77.93: 100%|██████████| 391/391 [00:20<00:00, 19.14it/s]\n"
          ]
        },
        {
          "output_type": "stream",
          "name": "stdout",
          "text": [
            "Test set: Average loss: 0.0034, Accuracy: 8528/10000 (85.28%)\n",
            "\n"
          ]
        },
        {
          "output_type": "stream",
          "name": "stderr",
          "text": [
            "EPOCH = 175 | LR = 0.001 | Loss = 0.64 | Batch = 390 | Accuracy = 78.29: 100%|██████████| 391/391 [00:19<00:00, 19.66it/s]\n"
          ]
        },
        {
          "output_type": "stream",
          "name": "stdout",
          "text": [
            "Test set: Average loss: 0.0033, Accuracy: 8554/10000 (85.54%)\n",
            "\n"
          ]
        },
        {
          "output_type": "stream",
          "name": "stderr",
          "text": [
            "EPOCH = 176 | LR = 0.001 | Loss = 0.52 | Batch = 390 | Accuracy = 78.22: 100%|██████████| 391/391 [00:20<00:00, 18.82it/s]\n"
          ]
        },
        {
          "output_type": "stream",
          "name": "stdout",
          "text": [
            "Test set: Average loss: 0.0033, Accuracy: 8577/10000 (85.77%)\n",
            "\n"
          ]
        },
        {
          "output_type": "stream",
          "name": "stderr",
          "text": [
            "EPOCH = 177 | LR = 0.001 | Loss = 0.69 | Batch = 390 | Accuracy = 78.34: 100%|██████████| 391/391 [00:21<00:00, 17.99it/s]\n"
          ]
        },
        {
          "output_type": "stream",
          "name": "stdout",
          "text": [
            "Test set: Average loss: 0.0034, Accuracy: 8552/10000 (85.52%)\n",
            "\n"
          ]
        },
        {
          "output_type": "stream",
          "name": "stderr",
          "text": [
            "EPOCH = 178 | LR = 0.001 | Loss = 0.70 | Batch = 390 | Accuracy = 78.30: 100%|██████████| 391/391 [00:21<00:00, 18.52it/s]\n"
          ]
        },
        {
          "output_type": "stream",
          "name": "stdout",
          "text": [
            "Test set: Average loss: 0.0033, Accuracy: 8544/10000 (85.44%)\n",
            "\n"
          ]
        },
        {
          "output_type": "stream",
          "name": "stderr",
          "text": [
            "EPOCH = 179 | LR = 0.001 | Loss = 0.70 | Batch = 390 | Accuracy = 78.11: 100%|██████████| 391/391 [00:19<00:00, 19.76it/s]\n"
          ]
        },
        {
          "output_type": "stream",
          "name": "stdout",
          "text": [
            "Test set: Average loss: 0.0033, Accuracy: 8578/10000 (85.78%)\n",
            "\n"
          ]
        },
        {
          "output_type": "stream",
          "name": "stderr",
          "text": [
            "EPOCH = 180 | LR = 0.001 | Loss = 0.65 | Batch = 390 | Accuracy = 78.45: 100%|██████████| 391/391 [00:21<00:00, 18.35it/s]\n"
          ]
        },
        {
          "output_type": "stream",
          "name": "stdout",
          "text": [
            "Test set: Average loss: 0.0033, Accuracy: 8550/10000 (85.50%)\n",
            "\n"
          ]
        },
        {
          "output_type": "stream",
          "name": "stderr",
          "text": [
            "EPOCH = 181 | LR = 0.001 | Loss = 0.58 | Batch = 390 | Accuracy = 78.22: 100%|██████████| 391/391 [00:19<00:00, 19.93it/s]\n"
          ]
        },
        {
          "output_type": "stream",
          "name": "stdout",
          "text": [
            "Test set: Average loss: 0.0033, Accuracy: 8580/10000 (85.80%)\n",
            "\n"
          ]
        },
        {
          "output_type": "stream",
          "name": "stderr",
          "text": [
            "EPOCH = 182 | LR = 0.001 | Loss = 0.56 | Batch = 390 | Accuracy = 78.33: 100%|██████████| 391/391 [00:21<00:00, 18.14it/s]\n"
          ]
        },
        {
          "output_type": "stream",
          "name": "stdout",
          "text": [
            "Test set: Average loss: 0.0033, Accuracy: 8591/10000 (85.91%)\n",
            "\n"
          ]
        },
        {
          "output_type": "stream",
          "name": "stderr",
          "text": [
            "EPOCH = 183 | LR = 0.001 | Loss = 0.71 | Batch = 390 | Accuracy = 78.29: 100%|██████████| 391/391 [00:19<00:00, 19.89it/s]\n"
          ]
        },
        {
          "output_type": "stream",
          "name": "stdout",
          "text": [
            "Test set: Average loss: 0.0033, Accuracy: 8571/10000 (85.71%)\n",
            "\n"
          ]
        },
        {
          "output_type": "stream",
          "name": "stderr",
          "text": [
            "EPOCH = 184 | LR = 0.001 | Loss = 0.48 | Batch = 390 | Accuracy = 78.56: 100%|██████████| 391/391 [00:21<00:00, 18.51it/s]\n"
          ]
        },
        {
          "output_type": "stream",
          "name": "stdout",
          "text": [
            "Test set: Average loss: 0.0033, Accuracy: 8584/10000 (85.84%)\n",
            "\n"
          ]
        },
        {
          "output_type": "stream",
          "name": "stderr",
          "text": [
            "EPOCH = 185 | LR = 0.001 | Loss = 0.54 | Batch = 390 | Accuracy = 78.66: 100%|██████████| 391/391 [00:20<00:00, 19.34it/s]\n"
          ]
        },
        {
          "output_type": "stream",
          "name": "stdout",
          "text": [
            "Test set: Average loss: 0.0033, Accuracy: 8589/10000 (85.89%)\n",
            "\n"
          ]
        },
        {
          "output_type": "stream",
          "name": "stderr",
          "text": [
            "EPOCH = 186 | LR = 0.001 | Loss = 0.63 | Batch = 390 | Accuracy = 78.60: 100%|██████████| 391/391 [00:21<00:00, 18.51it/s]\n"
          ]
        },
        {
          "output_type": "stream",
          "name": "stdout",
          "text": [
            "Test set: Average loss: 0.0033, Accuracy: 8553/10000 (85.53%)\n",
            "\n"
          ]
        },
        {
          "output_type": "stream",
          "name": "stderr",
          "text": [
            "EPOCH = 187 | LR = 0.001 | Loss = 0.53 | Batch = 390 | Accuracy = 78.48: 100%|██████████| 391/391 [00:19<00:00, 19.86it/s]\n"
          ]
        },
        {
          "output_type": "stream",
          "name": "stdout",
          "text": [
            "Test set: Average loss: 0.0033, Accuracy: 8556/10000 (85.56%)\n",
            "\n"
          ]
        },
        {
          "output_type": "stream",
          "name": "stderr",
          "text": [
            "EPOCH = 188 | LR = 0.001 | Loss = 0.60 | Batch = 390 | Accuracy = 78.53: 100%|██████████| 391/391 [00:20<00:00, 18.99it/s]\n"
          ]
        },
        {
          "output_type": "stream",
          "name": "stdout",
          "text": [
            "Test set: Average loss: 0.0033, Accuracy: 8567/10000 (85.67%)\n",
            "\n"
          ]
        },
        {
          "output_type": "stream",
          "name": "stderr",
          "text": [
            "EPOCH = 189 | LR = 0.001 | Loss = 0.47 | Batch = 390 | Accuracy = 78.34: 100%|██████████| 391/391 [00:19<00:00, 19.66it/s]\n"
          ]
        },
        {
          "output_type": "stream",
          "name": "stdout",
          "text": [
            "Test set: Average loss: 0.0034, Accuracy: 8564/10000 (85.64%)\n",
            "\n"
          ]
        },
        {
          "output_type": "stream",
          "name": "stderr",
          "text": [
            "EPOCH = 190 | LR = 0.001 | Loss = 0.70 | Batch = 390 | Accuracy = 78.44: 100%|██████████| 391/391 [00:19<00:00, 19.73it/s]\n"
          ]
        },
        {
          "output_type": "stream",
          "name": "stdout",
          "text": [
            "Test set: Average loss: 0.0034, Accuracy: 8563/10000 (85.63%)\n",
            "\n"
          ]
        },
        {
          "output_type": "stream",
          "name": "stderr",
          "text": [
            "EPOCH = 191 | LR = 0.001 | Loss = 0.71 | Batch = 390 | Accuracy = 78.55: 100%|██████████| 391/391 [00:20<00:00, 19.21it/s]\n"
          ]
        },
        {
          "output_type": "stream",
          "name": "stdout",
          "text": [
            "Test set: Average loss: 0.0033, Accuracy: 8570/10000 (85.70%)\n",
            "\n"
          ]
        },
        {
          "output_type": "stream",
          "name": "stderr",
          "text": [
            "EPOCH = 192 | LR = 0.001 | Loss = 0.58 | Batch = 390 | Accuracy = 78.70: 100%|██████████| 391/391 [00:19<00:00, 19.77it/s]\n"
          ]
        },
        {
          "output_type": "stream",
          "name": "stdout",
          "text": [
            "Test set: Average loss: 0.0033, Accuracy: 8567/10000 (85.67%)\n",
            "\n"
          ]
        },
        {
          "output_type": "stream",
          "name": "stderr",
          "text": [
            "EPOCH = 193 | LR = 0.001 | Loss = 0.55 | Batch = 390 | Accuracy = 78.63: 100%|██████████| 391/391 [00:21<00:00, 18.40it/s]\n"
          ]
        },
        {
          "output_type": "stream",
          "name": "stdout",
          "text": [
            "Test set: Average loss: 0.0032, Accuracy: 8606/10000 (86.06%)\n",
            "\n"
          ]
        },
        {
          "output_type": "stream",
          "name": "stderr",
          "text": [
            "EPOCH = 194 | LR = 0.001 | Loss = 0.49 | Batch = 390 | Accuracy = 78.66: 100%|██████████| 391/391 [00:21<00:00, 18.14it/s]\n"
          ]
        },
        {
          "output_type": "stream",
          "name": "stdout",
          "text": [
            "Test set: Average loss: 0.0033, Accuracy: 8569/10000 (85.69%)\n",
            "\n"
          ]
        },
        {
          "output_type": "stream",
          "name": "stderr",
          "text": [
            "EPOCH = 195 | LR = 0.001 | Loss = 0.53 | Batch = 390 | Accuracy = 78.88: 100%|██████████| 391/391 [00:21<00:00, 18.45it/s]\n"
          ]
        },
        {
          "output_type": "stream",
          "name": "stdout",
          "text": [
            "Test set: Average loss: 0.0033, Accuracy: 8586/10000 (85.86%)\n",
            "\n"
          ]
        },
        {
          "output_type": "stream",
          "name": "stderr",
          "text": [
            "EPOCH = 196 | LR = 0.001 | Loss = 0.51 | Batch = 390 | Accuracy = 78.76: 100%|██████████| 391/391 [00:19<00:00, 19.74it/s]\n"
          ]
        },
        {
          "output_type": "stream",
          "name": "stdout",
          "text": [
            "Test set: Average loss: 0.0033, Accuracy: 8583/10000 (85.83%)\n",
            "\n"
          ]
        },
        {
          "output_type": "stream",
          "name": "stderr",
          "text": [
            "EPOCH = 197 | LR = 0.001 | Loss = 0.52 | Batch = 390 | Accuracy = 78.51: 100%|██████████| 391/391 [00:21<00:00, 18.08it/s]\n"
          ]
        },
        {
          "output_type": "stream",
          "name": "stdout",
          "text": [
            "Test set: Average loss: 0.0033, Accuracy: 8590/10000 (85.90%)\n",
            "\n"
          ]
        },
        {
          "output_type": "stream",
          "name": "stderr",
          "text": [
            "EPOCH = 198 | LR = 0.001 | Loss = 0.69 | Batch = 390 | Accuracy = 78.81: 100%|██████████| 391/391 [00:19<00:00, 19.65it/s]\n"
          ]
        },
        {
          "output_type": "stream",
          "name": "stdout",
          "text": [
            "Test set: Average loss: 0.0033, Accuracy: 8585/10000 (85.85%)\n",
            "\n"
          ]
        },
        {
          "output_type": "stream",
          "name": "stderr",
          "text": [
            "EPOCH = 199 | LR = 0.001 | Loss = 0.65 | Batch = 390 | Accuracy = 78.76: 100%|██████████| 391/391 [00:21<00:00, 18.08it/s]\n"
          ]
        },
        {
          "output_type": "stream",
          "name": "stdout",
          "text": [
            "Test set: Average loss: 0.0033, Accuracy: 8603/10000 (86.03%)\n",
            "\n"
          ]
        }
      ]
    },
    {
      "cell_type": "code",
      "source": [
        "print(\"Minimum training loss = {:.9f}%\".format(min(trainer.train_losses)))\n",
        "print(\"Minimum testing loss = {:.9f}%\".format(min(tester.test_losses)))\n",
        "print(\"Best training accuracy = {:.2f}%\".format(max(trainer.epoch_train_accuracies)))\n",
        "print(\"Best testing accuracy = {:.2f}%\".format(max(tester.test_accuracies)))"
      ],
      "metadata": {
        "colab": {
          "base_uri": "https://localhost:8080/"
        },
        "id": "Khy36IL_Sx_q",
        "outputId": "0b4df224-dbda-42e9-f5ea-145ca0977b51"
      },
      "execution_count": 11,
      "outputs": [
        {
          "output_type": "stream",
          "name": "stdout",
          "text": [
            "Minimum training loss = 0.325571984%\n",
            "Minimum testing loss = 0.003223052%\n",
            "Best training accuracy = 78.88%\n",
            "Best testing accuracy = 86.06%\n"
          ]
        }
      ]
    },
    {
      "cell_type": "code",
      "source": [
        "%matplotlib inline\n",
        "import matplotlib.pyplot as plt\n",
        "import numpy as np\n",
        "\n",
        "def denormalize(img):\n",
        "    channel_means = (0.4914, 0.4822, 0.4465)\n",
        "    channel_stdevs = (0.2470, 0.2435, 0.2616)\n",
        "    img = img.astype(dtype=np.float32)\n",
        "\n",
        "    for i in range(img.shape[0]):\n",
        "        img[i] = (img[i] * channel_stdevs[i]) + channel_means[i]\n",
        "\n",
        "    return np.transpose(img, (1, 2, 0))\n",
        "\n",
        "def show_training_images(train_loader, count):\n",
        "    classes = (\n",
        "            \"plane\",\n",
        "            \"car\",\n",
        "            \"bird\",\n",
        "            \"cat\",\n",
        "            \"deer\",\n",
        "            \"dog\",\n",
        "            \"frog\",\n",
        "            \"horse\",\n",
        "            \"ship\",\n",
        "            \"truck\",\n",
        "    )\n",
        "\n",
        "    images, labels = next(iter(train_loader))\n",
        "    images = images[0:count]\n",
        "    labels = labels[0:count]\n",
        "\n",
        "    fig = plt.figure(figsize=(20, 10))\n",
        "    for i in range(count):\n",
        "        sub = fig.add_subplot(count/5, 5, i+1)\n",
        "        npimg = denormalize(images[i].cpu().numpy().squeeze())\n",
        "        plt.imshow(npimg, cmap=\"gray\")\n",
        "        sub.set_title(\"Correct class: {}\".format(classes[labels[i]]))\n",
        "    plt.tight_layout()\n",
        "    plt.show()"
      ],
      "metadata": {
        "id": "m0nJP6JsSyCD"
      },
      "execution_count": 12,
      "outputs": []
    },
    {
      "cell_type": "code",
      "source": [
        "show_training_images(train_loader, 20)"
      ],
      "metadata": {
        "colab": {
          "base_uri": "https://localhost:8080/",
          "height": 353
        },
        "id": "CSo3M4pdTlf2",
        "outputId": "8e9b4a76-5c58-4730-c6b5-eb64d2432634"
      },
      "execution_count": 13,
      "outputs": [
        {
          "output_type": "error",
          "ename": "ValueError",
          "evalue": "ignored",
          "traceback": [
            "\u001b[0;31m---------------------------------------------------------------------------\u001b[0m",
            "\u001b[0;31mValueError\u001b[0m                                Traceback (most recent call last)",
            "\u001b[0;32m<ipython-input-13-93239af6f21a>\u001b[0m in \u001b[0;36m<cell line: 1>\u001b[0;34m()\u001b[0m\n\u001b[0;32m----> 1\u001b[0;31m \u001b[0mshow_training_images\u001b[0m\u001b[0;34m(\u001b[0m\u001b[0mtrain_loader\u001b[0m\u001b[0;34m,\u001b[0m \u001b[0;36m20\u001b[0m\u001b[0;34m)\u001b[0m\u001b[0;34m\u001b[0m\u001b[0;34m\u001b[0m\u001b[0m\n\u001b[0m",
            "\u001b[0;32m<ipython-input-12-0be304431b62>\u001b[0m in \u001b[0;36mshow_training_images\u001b[0;34m(train_loader, count)\u001b[0m\n\u001b[1;32m     33\u001b[0m     \u001b[0mfig\u001b[0m \u001b[0;34m=\u001b[0m \u001b[0mplt\u001b[0m\u001b[0;34m.\u001b[0m\u001b[0mfigure\u001b[0m\u001b[0;34m(\u001b[0m\u001b[0mfigsize\u001b[0m\u001b[0;34m=\u001b[0m\u001b[0;34m(\u001b[0m\u001b[0;36m20\u001b[0m\u001b[0;34m,\u001b[0m \u001b[0;36m10\u001b[0m\u001b[0;34m)\u001b[0m\u001b[0;34m)\u001b[0m\u001b[0;34m\u001b[0m\u001b[0;34m\u001b[0m\u001b[0m\n\u001b[1;32m     34\u001b[0m     \u001b[0;32mfor\u001b[0m \u001b[0mi\u001b[0m \u001b[0;32min\u001b[0m \u001b[0mrange\u001b[0m\u001b[0;34m(\u001b[0m\u001b[0mcount\u001b[0m\u001b[0;34m)\u001b[0m\u001b[0;34m:\u001b[0m\u001b[0;34m\u001b[0m\u001b[0;34m\u001b[0m\u001b[0m\n\u001b[0;32m---> 35\u001b[0;31m         \u001b[0msub\u001b[0m \u001b[0;34m=\u001b[0m \u001b[0mfig\u001b[0m\u001b[0;34m.\u001b[0m\u001b[0madd_subplot\u001b[0m\u001b[0;34m(\u001b[0m\u001b[0mcount\u001b[0m\u001b[0;34m/\u001b[0m\u001b[0;36m5\u001b[0m\u001b[0;34m,\u001b[0m \u001b[0;36m5\u001b[0m\u001b[0;34m,\u001b[0m \u001b[0mi\u001b[0m\u001b[0;34m+\u001b[0m\u001b[0;36m1\u001b[0m\u001b[0;34m)\u001b[0m\u001b[0;34m\u001b[0m\u001b[0;34m\u001b[0m\u001b[0m\n\u001b[0m\u001b[1;32m     36\u001b[0m         \u001b[0mnpimg\u001b[0m \u001b[0;34m=\u001b[0m \u001b[0mdenormalize\u001b[0m\u001b[0;34m(\u001b[0m\u001b[0mimages\u001b[0m\u001b[0;34m[\u001b[0m\u001b[0mi\u001b[0m\u001b[0;34m]\u001b[0m\u001b[0;34m.\u001b[0m\u001b[0mcpu\u001b[0m\u001b[0;34m(\u001b[0m\u001b[0;34m)\u001b[0m\u001b[0;34m.\u001b[0m\u001b[0mnumpy\u001b[0m\u001b[0;34m(\u001b[0m\u001b[0;34m)\u001b[0m\u001b[0;34m.\u001b[0m\u001b[0msqueeze\u001b[0m\u001b[0;34m(\u001b[0m\u001b[0;34m)\u001b[0m\u001b[0;34m)\u001b[0m\u001b[0;34m\u001b[0m\u001b[0;34m\u001b[0m\u001b[0m\n\u001b[1;32m     37\u001b[0m         \u001b[0mplt\u001b[0m\u001b[0;34m.\u001b[0m\u001b[0mimshow\u001b[0m\u001b[0;34m(\u001b[0m\u001b[0mnpimg\u001b[0m\u001b[0;34m,\u001b[0m \u001b[0mcmap\u001b[0m\u001b[0;34m=\u001b[0m\u001b[0;34m\"gray\"\u001b[0m\u001b[0;34m)\u001b[0m\u001b[0;34m\u001b[0m\u001b[0;34m\u001b[0m\u001b[0m\n",
            "\u001b[0;32m/usr/local/lib/python3.10/dist-packages/matplotlib/figure.py\u001b[0m in \u001b[0;36madd_subplot\u001b[0;34m(self, *args, **kwargs)\u001b[0m\n\u001b[1;32m    755\u001b[0m             projection_class, pkw = self._process_projection_requirements(\n\u001b[1;32m    756\u001b[0m                 *args, **kwargs)\n\u001b[0;32m--> 757\u001b[0;31m             \u001b[0max\u001b[0m \u001b[0;34m=\u001b[0m \u001b[0mprojection_class\u001b[0m\u001b[0;34m(\u001b[0m\u001b[0mself\u001b[0m\u001b[0;34m,\u001b[0m \u001b[0;34m*\u001b[0m\u001b[0margs\u001b[0m\u001b[0;34m,\u001b[0m \u001b[0;34m**\u001b[0m\u001b[0mpkw\u001b[0m\u001b[0;34m)\u001b[0m\u001b[0;34m\u001b[0m\u001b[0;34m\u001b[0m\u001b[0m\n\u001b[0m\u001b[1;32m    758\u001b[0m             \u001b[0mkey\u001b[0m \u001b[0;34m=\u001b[0m \u001b[0;34m(\u001b[0m\u001b[0mprojection_class\u001b[0m\u001b[0;34m,\u001b[0m \u001b[0mpkw\u001b[0m\u001b[0;34m)\u001b[0m\u001b[0;34m\u001b[0m\u001b[0;34m\u001b[0m\u001b[0m\n\u001b[1;32m    759\u001b[0m         \u001b[0;32mreturn\u001b[0m \u001b[0mself\u001b[0m\u001b[0;34m.\u001b[0m\u001b[0m_add_axes_internal\u001b[0m\u001b[0;34m(\u001b[0m\u001b[0max\u001b[0m\u001b[0;34m,\u001b[0m \u001b[0mkey\u001b[0m\u001b[0;34m)\u001b[0m\u001b[0;34m\u001b[0m\u001b[0;34m\u001b[0m\u001b[0m\n",
            "\u001b[0;32m/usr/local/lib/python3.10/dist-packages/matplotlib/axes/_base.py\u001b[0m in \u001b[0;36m__init__\u001b[0;34m(self, fig, facecolor, frameon, sharex, sharey, label, xscale, yscale, box_aspect, *args, **kwargs)\u001b[0m\n\u001b[1;32m    642\u001b[0m         \u001b[0;32melse\u001b[0m\u001b[0;34m:\u001b[0m\u001b[0;34m\u001b[0m\u001b[0;34m\u001b[0m\u001b[0m\n\u001b[1;32m    643\u001b[0m             \u001b[0mself\u001b[0m\u001b[0;34m.\u001b[0m\u001b[0m_position\u001b[0m \u001b[0;34m=\u001b[0m \u001b[0mself\u001b[0m\u001b[0;34m.\u001b[0m\u001b[0m_originalPosition\u001b[0m \u001b[0;34m=\u001b[0m \u001b[0mmtransforms\u001b[0m\u001b[0;34m.\u001b[0m\u001b[0mBbox\u001b[0m\u001b[0;34m.\u001b[0m\u001b[0munit\u001b[0m\u001b[0;34m(\u001b[0m\u001b[0;34m)\u001b[0m\u001b[0;34m\u001b[0m\u001b[0;34m\u001b[0m\u001b[0m\n\u001b[0;32m--> 644\u001b[0;31m             \u001b[0msubplotspec\u001b[0m \u001b[0;34m=\u001b[0m \u001b[0mSubplotSpec\u001b[0m\u001b[0;34m.\u001b[0m\u001b[0m_from_subplot_args\u001b[0m\u001b[0;34m(\u001b[0m\u001b[0mfig\u001b[0m\u001b[0;34m,\u001b[0m \u001b[0margs\u001b[0m\u001b[0;34m)\u001b[0m\u001b[0;34m\u001b[0m\u001b[0;34m\u001b[0m\u001b[0m\n\u001b[0m\u001b[1;32m    645\u001b[0m         \u001b[0;32mif\u001b[0m \u001b[0mself\u001b[0m\u001b[0;34m.\u001b[0m\u001b[0m_position\u001b[0m\u001b[0;34m.\u001b[0m\u001b[0mwidth\u001b[0m \u001b[0;34m<\u001b[0m \u001b[0;36m0\u001b[0m \u001b[0;32mor\u001b[0m \u001b[0mself\u001b[0m\u001b[0;34m.\u001b[0m\u001b[0m_position\u001b[0m\u001b[0;34m.\u001b[0m\u001b[0mheight\u001b[0m \u001b[0;34m<\u001b[0m \u001b[0;36m0\u001b[0m\u001b[0;34m:\u001b[0m\u001b[0;34m\u001b[0m\u001b[0;34m\u001b[0m\u001b[0m\n\u001b[1;32m    646\u001b[0m             \u001b[0;32mraise\u001b[0m \u001b[0mValueError\u001b[0m\u001b[0;34m(\u001b[0m\u001b[0;34m'Width and height specified must be non-negative'\u001b[0m\u001b[0;34m)\u001b[0m\u001b[0;34m\u001b[0m\u001b[0;34m\u001b[0m\u001b[0m\n",
            "\u001b[0;32m/usr/local/lib/python3.10/dist-packages/matplotlib/gridspec.py\u001b[0m in \u001b[0;36m_from_subplot_args\u001b[0;34m(figure, args)\u001b[0m\n\u001b[1;32m    585\u001b[0m             \u001b[0;32mraise\u001b[0m \u001b[0m_api\u001b[0m\u001b[0;34m.\u001b[0m\u001b[0mnargs_error\u001b[0m\u001b[0;34m(\u001b[0m\u001b[0;34m\"subplot\"\u001b[0m\u001b[0;34m,\u001b[0m \u001b[0mtakes\u001b[0m\u001b[0;34m=\u001b[0m\u001b[0;34m\"1 or 3\"\u001b[0m\u001b[0;34m,\u001b[0m \u001b[0mgiven\u001b[0m\u001b[0;34m=\u001b[0m\u001b[0mlen\u001b[0m\u001b[0;34m(\u001b[0m\u001b[0margs\u001b[0m\u001b[0;34m)\u001b[0m\u001b[0;34m)\u001b[0m\u001b[0;34m\u001b[0m\u001b[0;34m\u001b[0m\u001b[0m\n\u001b[1;32m    586\u001b[0m \u001b[0;34m\u001b[0m\u001b[0m\n\u001b[0;32m--> 587\u001b[0;31m         \u001b[0mgs\u001b[0m \u001b[0;34m=\u001b[0m \u001b[0mGridSpec\u001b[0m\u001b[0;34m.\u001b[0m\u001b[0m_check_gridspec_exists\u001b[0m\u001b[0;34m(\u001b[0m\u001b[0mfigure\u001b[0m\u001b[0;34m,\u001b[0m \u001b[0mrows\u001b[0m\u001b[0;34m,\u001b[0m \u001b[0mcols\u001b[0m\u001b[0;34m)\u001b[0m\u001b[0;34m\u001b[0m\u001b[0;34m\u001b[0m\u001b[0m\n\u001b[0m\u001b[1;32m    588\u001b[0m         \u001b[0;32mif\u001b[0m \u001b[0mgs\u001b[0m \u001b[0;32mis\u001b[0m \u001b[0;32mNone\u001b[0m\u001b[0;34m:\u001b[0m\u001b[0;34m\u001b[0m\u001b[0;34m\u001b[0m\u001b[0m\n\u001b[1;32m    589\u001b[0m             \u001b[0mgs\u001b[0m \u001b[0;34m=\u001b[0m \u001b[0mGridSpec\u001b[0m\u001b[0;34m(\u001b[0m\u001b[0mrows\u001b[0m\u001b[0;34m,\u001b[0m \u001b[0mcols\u001b[0m\u001b[0;34m,\u001b[0m \u001b[0mfigure\u001b[0m\u001b[0;34m=\u001b[0m\u001b[0mfigure\u001b[0m\u001b[0;34m)\u001b[0m\u001b[0;34m\u001b[0m\u001b[0;34m\u001b[0m\u001b[0m\n",
            "\u001b[0;32m/usr/local/lib/python3.10/dist-packages/matplotlib/gridspec.py\u001b[0m in \u001b[0;36m_check_gridspec_exists\u001b[0;34m(figure, nrows, ncols)\u001b[0m\n\u001b[1;32m    224\u001b[0m                     \u001b[0;32mreturn\u001b[0m \u001b[0mgs\u001b[0m\u001b[0;34m\u001b[0m\u001b[0;34m\u001b[0m\u001b[0m\n\u001b[1;32m    225\u001b[0m         \u001b[0;31m# else gridspec not found:\u001b[0m\u001b[0;34m\u001b[0m\u001b[0;34m\u001b[0m\u001b[0m\n\u001b[0;32m--> 226\u001b[0;31m         \u001b[0;32mreturn\u001b[0m \u001b[0mGridSpec\u001b[0m\u001b[0;34m(\u001b[0m\u001b[0mnrows\u001b[0m\u001b[0;34m,\u001b[0m \u001b[0mncols\u001b[0m\u001b[0;34m,\u001b[0m \u001b[0mfigure\u001b[0m\u001b[0;34m=\u001b[0m\u001b[0mfigure\u001b[0m\u001b[0;34m)\u001b[0m\u001b[0;34m\u001b[0m\u001b[0;34m\u001b[0m\u001b[0m\n\u001b[0m\u001b[1;32m    227\u001b[0m \u001b[0;34m\u001b[0m\u001b[0m\n\u001b[1;32m    228\u001b[0m     \u001b[0;32mdef\u001b[0m \u001b[0m__getitem__\u001b[0m\u001b[0;34m(\u001b[0m\u001b[0mself\u001b[0m\u001b[0;34m,\u001b[0m \u001b[0mkey\u001b[0m\u001b[0;34m)\u001b[0m\u001b[0;34m:\u001b[0m\u001b[0;34m\u001b[0m\u001b[0;34m\u001b[0m\u001b[0m\n",
            "\u001b[0;32m/usr/local/lib/python3.10/dist-packages/matplotlib/gridspec.py\u001b[0m in \u001b[0;36m__init__\u001b[0;34m(self, nrows, ncols, figure, left, bottom, right, top, wspace, hspace, width_ratios, height_ratios)\u001b[0m\n\u001b[1;32m    377\u001b[0m         \u001b[0mself\u001b[0m\u001b[0;34m.\u001b[0m\u001b[0mfigure\u001b[0m \u001b[0;34m=\u001b[0m \u001b[0mfigure\u001b[0m\u001b[0;34m\u001b[0m\u001b[0;34m\u001b[0m\u001b[0m\n\u001b[1;32m    378\u001b[0m \u001b[0;34m\u001b[0m\u001b[0m\n\u001b[0;32m--> 379\u001b[0;31m         super().__init__(nrows, ncols,\n\u001b[0m\u001b[1;32m    380\u001b[0m                          \u001b[0mwidth_ratios\u001b[0m\u001b[0;34m=\u001b[0m\u001b[0mwidth_ratios\u001b[0m\u001b[0;34m,\u001b[0m\u001b[0;34m\u001b[0m\u001b[0;34m\u001b[0m\u001b[0m\n\u001b[1;32m    381\u001b[0m                          height_ratios=height_ratios)\n",
            "\u001b[0;32m/usr/local/lib/python3.10/dist-packages/matplotlib/gridspec.py\u001b[0m in \u001b[0;36m__init__\u001b[0;34m(self, nrows, ncols, height_ratios, width_ratios)\u001b[0m\n\u001b[1;32m     47\u001b[0m         \"\"\"\n\u001b[1;32m     48\u001b[0m         \u001b[0;32mif\u001b[0m \u001b[0;32mnot\u001b[0m \u001b[0misinstance\u001b[0m\u001b[0;34m(\u001b[0m\u001b[0mnrows\u001b[0m\u001b[0;34m,\u001b[0m \u001b[0mIntegral\u001b[0m\u001b[0;34m)\u001b[0m \u001b[0;32mor\u001b[0m \u001b[0mnrows\u001b[0m \u001b[0;34m<=\u001b[0m \u001b[0;36m0\u001b[0m\u001b[0;34m:\u001b[0m\u001b[0;34m\u001b[0m\u001b[0;34m\u001b[0m\u001b[0m\n\u001b[0;32m---> 49\u001b[0;31m             raise ValueError(\n\u001b[0m\u001b[1;32m     50\u001b[0m                 f\"Number of rows must be a positive integer, not {nrows!r}\")\n\u001b[1;32m     51\u001b[0m         \u001b[0;32mif\u001b[0m \u001b[0;32mnot\u001b[0m \u001b[0misinstance\u001b[0m\u001b[0;34m(\u001b[0m\u001b[0mncols\u001b[0m\u001b[0;34m,\u001b[0m \u001b[0mIntegral\u001b[0m\u001b[0;34m)\u001b[0m \u001b[0;32mor\u001b[0m \u001b[0mncols\u001b[0m \u001b[0;34m<=\u001b[0m \u001b[0;36m0\u001b[0m\u001b[0;34m:\u001b[0m\u001b[0;34m\u001b[0m\u001b[0;34m\u001b[0m\u001b[0m\n",
            "\u001b[0;31mValueError\u001b[0m: Number of rows must be a positive integer, not 4.0"
          ]
        },
        {
          "output_type": "display_data",
          "data": {
            "text/plain": [
              "<Figure size 2000x1000 with 0 Axes>"
            ]
          },
          "metadata": {}
        }
      ]
    },
    {
      "cell_type": "code",
      "source": [
        "%matplotlib inline\n",
        "import matplotlib.pyplot as plt\n",
        "import numpy as np\n",
        "\n",
        "def show_misclassified_images(model, test_loader, device):\n",
        "    model.eval()\n",
        "    classes = (\n",
        "            \"plane\",\n",
        "            \"car\",\n",
        "            \"bird\",\n",
        "            \"cat\",\n",
        "            \"deer\",\n",
        "            \"dog\",\n",
        "            \"frog\",\n",
        "            \"horse\",\n",
        "            \"ship\",\n",
        "            \"truck\",\n",
        "    )\n",
        "    misclassified_images = []\n",
        "\n",
        "    with torch.no_grad():\n",
        "        for data, target in test_loader:\n",
        "            data, target = data.to(device), target.to(device)\n",
        "            output = model(data)\n",
        "            _, pred = torch.max(output, 1)\n",
        "            for i in range(len(pred)):\n",
        "                if pred[i] != target[i]:\n",
        "                    misclassified_images.append({'image': data[i], 'predicted_class': classes[pred[i]], 'correct_class': classes[target[i]]})\n",
        "\n",
        "    # Plot the misclassified images\n",
        "    fig = plt.figure(figsize=(20, 10))\n",
        "    for i in range(20):\n",
        "        sub = fig.add_subplot(4, 5, i+1)\n",
        "        misclassified_image = misclassified_images[i]\n",
        "        npimg = denormalize(misclassified_image['image'].cpu().numpy().squeeze())\n",
        "        plt.imshow(npimg, cmap=\"gray\")\n",
        "        sub.set_title(\"Correct class: {}\\nPredicted class: {}\".format(misclassified_image['correct_class'], misclassified_image['predicted_class']))\n",
        "    plt.tight_layout()\n",
        "    plt.show()"
      ],
      "metadata": {
        "id": "34ksxADgSyEo"
      },
      "execution_count": null,
      "outputs": []
    },
    {
      "cell_type": "code",
      "source": [
        "show_misclassified_images(model, test_loader, device)"
      ],
      "metadata": {
        "id": "c0eeHyovSyG9"
      },
      "execution_count": null,
      "outputs": []
    },
    {
      "cell_type": "code",
      "source": [
        "fig, ax = plt.subplots(2, 2)\n",
        "\n",
        "train_epoch_loss_linspace = np.linspace(0, EPOCHS, len(trainer.train_losses))\n",
        "test_epoch_loss_linspace = np.linspace(0, EPOCHS, len(tester.test_losses))\n",
        "train_epoch_acc_linspace = np.linspace(0, EPOCHS, len(trainer.train_accuracies))\n",
        "test_epoch_acc_linspace = np.linspace(0, EPOCHS, len(tester.test_accuracies))\n",
        "\n",
        "ax[0][0].set_xlabel(\"Epoch\")\n",
        "ax[0][0].set_ylabel(\"Train Loss\")\n",
        "ax[0][0].plot(train_epoch_loss_linspace, trainer.train_losses)\n",
        "ax[0][0].tick_params(axis=\"y\", labelleft=True, labelright=True)\n",
        "\n",
        "ax[0][1].set_xlabel(\"Epoch\")\n",
        "ax[0][1].set_ylabel(\"Test Loss\")\n",
        "ax[0][1].plot(test_epoch_loss_linspace, tester.test_losses)\n",
        "ax[0][1].tick_params(axis=\"y\", labelleft=True, labelright=True)\n",
        "\n",
        "ax[1][0].set_xlabel(\"Epoch\")\n",
        "ax[1][0].set_ylabel(\"Train Accuracy\")\n",
        "ax[1][0].plot(train_epoch_acc_linspace, trainer.train_accuracies)\n",
        "ax[1][0].tick_params(axis=\"y\", labelleft=True, labelright=True)\n",
        "ax[1][0].yaxis.set_ticks(np.arange(0, 101, 5))\n",
        "\n",
        "ax[1][1].set_xlabel(\"Epoch\")\n",
        "ax[1][1].set_ylabel(\"Test Accuracy\")\n",
        "ax[1][1].plot(test_epoch_acc_linspace, tester.test_accuracies)\n",
        "ax[1][1].tick_params(axis=\"y\", labelleft=True, labelright=True)\n",
        "ax[1][1].yaxis.set_ticks(np.arange(0, 101, 5))\n",
        "\n",
        "fig.set_size_inches(28, 18)\n",
        "plt.tight_layout()\n",
        "plt.show()"
      ],
      "metadata": {
        "id": "hab7-LkeSyJl"
      },
      "execution_count": null,
      "outputs": []
    },
    {
      "cell_type": "code",
      "source": [],
      "metadata": {
        "id": "2PW3-kEpSyMM"
      },
      "execution_count": null,
      "outputs": []
    }
  ]
}