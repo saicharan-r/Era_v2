{
 "cells": [
  {
   "cell_type": "code",
   "execution_count": null,
   "id": "a032a777-bd6f-4abf-a40f-d7a9fb907e1b",
   "metadata": {},
   "outputs": [],
   "source": [
    "%pip install torchinfo\n",
    "import torch\n",
    "import torch.nn as nn\n",
    "import torch.nn.functional as F\n",
    "import torch.optim as optim\n",
    "from torchvision import datasets, transforms\n",
    "from torchinfo import summary\n",
    "from model import Model_1 as Net"
   ]
  }
 ],
 "metadata": {
  "kernelspec": {
   "display_name": "Python 3 (ipykernel)",
   "language": "python",
   "name": "python3"
  },
  "language_info": {
   "codemirror_mode": {
    "name": "ipython",
    "version": 3
   },
   "file_extension": ".py",
   "mimetype": "text/x-python",
   "name": "python",
   "nbconvert_exporter": "python",
   "pygments_lexer": "ipython3",
   "version": "3.10.9"
  }
 },
 "nbformat": 4,
 "nbformat_minor": 5
}
